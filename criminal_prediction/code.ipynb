{
 "cells": [
  {
   "cell_type": "code",
   "execution_count": 21,
   "metadata": {
    "collapsed": true
   },
   "outputs": [],
   "source": [
    "import numpy as np\n",
    "import pandas as pd\n",
    "from sklearn.utils import resample\n",
    "from sklearn.model_selection import train_test_split\n",
    "from sklearn.metrics import accuracy_score\n",
    "from sklearn.metrics import confusion_matrix\n",
    "from sklearn.metrics import matthews_corrcoef\n",
    "from sklearn.metrics import roc_auc_score\n",
    "from sklearn.metrics import recall_score\n",
    "from sklearn.feature_selection import RFE\n",
    "from sklearn.decomposition import PCA\n",
    "from sklearn.discriminant_analysis import LinearDiscriminantAnalysis\n",
    "import xgboost as xgb\n",
    "from sklearn.ensemble import RandomForestClassifier\n",
    "from sklearn.linear_model import LogisticRegression\n",
    "from sklearn.neural_network import MLPClassifier\n",
    "from sklearn.svm import SVC\n",
    "from imblearn.over_sampling import SMOTE"
   ]
  },
  {
   "cell_type": "code",
   "execution_count": 2,
   "metadata": {
    "collapsed": true
   },
   "outputs": [],
   "source": [
    "def random_forest(train_x,train_y,test_x,test_y):\n",
    "    clf = RandomForestClassifier()\n",
    "    clf.fit(train_x, train_y)\n",
    "    prediction=clf.predict(test_x)\n",
    "    print accuracy_score(test_y,prediction)\n",
    "    print confusion_matrix(test_y,prediction)\n",
    "    print matthews_corrcoef(test_y,prediction)\n",
    "    print recall_score(test_y,prediction)\n",
    "    print roc_auc_score(test_y,prediction)\n",
    "    return clf"
   ]
  },
  {
   "cell_type": "code",
   "execution_count": 18,
   "metadata": {
    "collapsed": true
   },
   "outputs": [],
   "source": [
    "def xgboost(train_x, train_y, test_x, test_y):\n",
    "    #clf=xgb.XGBClassifier(max_depth=5, n_estimators=300, learning_rate=0.01) 82%\n",
    "    clf=xgb.XGBClassifier(learning_rate =0.015,max_depth=5,n_estimators=500,min_child_weight=0.7,gamma=0.2,subsample=0.8,colsample_bytree=0.8,objective= 'binary:logistic',n_jobs=4,scale_pos_weight=1,random_state=27)\n",
    "    clf.fit(train_x, train_y)\n",
    "    prediction = clf.predict(test_x)\n",
    "    print accuracy_score(test_y,prediction)\n",
    "    print confusion_matrix(test_y,prediction)\n",
    "    print matthews_corrcoef(test_y,prediction)\n",
    "    print recall_score(test_y,prediction)\n",
    "    print roc_auc_score(test_y,prediction)\n",
    "    return clf"
   ]
  },
  {
   "cell_type": "code",
   "execution_count": 25,
   "metadata": {},
   "outputs": [],
   "source": [
    "def neural(train_x, train_y, test_x, test_y):\n",
    "    clf=MLPClassifier(hidden_layer_sizes=(100, ), activation='relu', solver='adam', alpha=0.0001, batch_size='auto', learning_rate='constant', learning_rate_init=0.001, power_t=0.5, max_iter=200, shuffle=True, random_state=None, tol=0.0001, verbose=False, warm_start=False, momentum=0.9, nesterovs_momentum=True, early_stopping=False, validation_fraction=0.1, beta_1=0.9, beta_2=0.999, epsilon=1e-08)\n",
    "    clf.fit(train_x, train_y)\n",
    "    prediction = clf.predict(test_x)\n",
    "    print accuracy_score(test_y,prediction)\n",
    "    print confusion_matrix(test_y,prediction)\n",
    "    print matthews_corrcoef(test_y,prediction)\n",
    "    print recall_score(test_y,prediction)\n",
    "    print roc_auc_score(test_y,prediction)\n",
    "    return clf"
   ]
  },
  {
   "cell_type": "code",
   "execution_count": 4,
   "metadata": {
    "collapsed": true
   },
   "outputs": [],
   "source": [
    "train_data=pd.read_csv('data/criminal_train.csv')\n",
    "test_data=pd.read_csv('data/criminal_test.csv')\n",
    "columns=list(train_data)"
   ]
  },
  {
   "cell_type": "code",
   "execution_count": 5,
   "metadata": {},
   "outputs": [
    {
     "name": "stderr",
     "output_type": "stream",
     "text": [
      "/Users/admin/softs/anaconda/lib/python2.7/site-packages/sklearn/utils/deprecation.py:77: DeprecationWarning: Function _ratio_float is deprecated; Use a float for 'ratio' is deprecated from version 0.2. The support will be removed in 0.4. Use a dict, str, or a callable instead.\n",
      "  warnings.warn(msg, category=DeprecationWarning)\n"
     ]
    }
   ],
   "source": [
    "sm = SMOTE(random_state=12, ratio = 1.0)\n",
    "x_res, y_res = sm.fit_sample(train_data[columns[1:-1]], train_data[columns[-1]])"
   ]
  },
  {
   "cell_type": "code",
   "execution_count": 6,
   "metadata": {
    "collapsed": true
   },
   "outputs": [],
   "source": [
    "#pca = PCA(n_components=60)\n",
    "#comp_x = pca.fit(x_res).transform(x_res)"
   ]
  },
  {
   "cell_type": "code",
   "execution_count": 6,
   "metadata": {
    "collapsed": true
   },
   "outputs": [],
   "source": [
    "train_x, test_x, train_y, test_y =train_test_split(x_res, y_res, test_size=0.2, random_state=12)"
   ]
  },
  {
   "cell_type": "code",
   "execution_count": 8,
   "metadata": {},
   "outputs": [
    {
     "name": "stdout",
     "output_type": "stream",
     "text": [
      "0.967387472088\n",
      "[[8166  382]\n",
      " [ 173 8297]]\n",
      "0.935062970396\n",
      "0.979574970484\n",
      "0.967443077193\n"
     ]
    }
   ],
   "source": [
    "#rf_clf=random_forest(train_x,train_y,test_x,test_y)"
   ]
  },
  {
   "cell_type": "code",
   "execution_count": 19,
   "metadata": {},
   "outputs": [
    {
     "name": "stdout",
     "output_type": "stream",
     "text": [
      "0.972969796686\n",
      "[[8265  283]\n",
      " [ 177 8293]]\n",
      "0.946014946371\n",
      "0.979102715466\n",
      "0.972997777948\n"
     ]
    }
   ],
   "source": [
    "#xg_clf=xgboost(train_x, train_y, test_x, test_y)"
   ]
  },
  {
   "cell_type": "code",
   "execution_count": 23,
   "metadata": {},
   "outputs": [
    {
     "name": "stdout",
     "output_type": "stream",
     "text": [
      "0.764014572805\n",
      "[[8134  414]\n",
      " [3602 4868]]\n",
      "0.56878706656\n",
      "0.574734356553\n",
      "0.763150987354\n"
     ]
    }
   ],
   "source": [
    "ne_clf=neural(train_x, train_y, test_x, test_y)"
   ]
  },
  {
   "cell_type": "code",
   "execution_count": 20,
   "metadata": {},
   "outputs": [],
   "source": [
    "#comp_test=pca.transform(test_data[columns[1:-1]])\n",
    "test_df=test_data[columns[1:-1]]\n",
    "test_df.columns=['f0', 'f1', 'f2', 'f3', 'f4', 'f5', 'f6', 'f7', 'f8', 'f9', 'f10', 'f11', 'f12', 'f13', 'f14', 'f15', 'f16', 'f17', 'f18', 'f19', 'f20', 'f21', 'f22', 'f23', 'f24', 'f25', 'f26', 'f27', 'f28', 'f29', 'f30', 'f31', 'f32', 'f33', 'f34', 'f35', 'f36', 'f37', 'f38', 'f39', 'f40', 'f41', 'f42', 'f43', 'f44', 'f45', 'f46', 'f47', 'f48', 'f49', 'f50', 'f51', 'f52', 'f53', 'f54', 'f55', 'f56', 'f57', 'f58', 'f59', 'f60', 'f61', 'f62', 'f63', 'f64', 'f65', 'f66', 'f67', 'f68', 'f69']\n",
    "res = xg_clf.predict(test_df)\n",
    "submission = pd.DataFrame({ 'PERID': test_data['PERID'],'Criminal': res })\n",
    "submission[['PERID','Criminal']].to_csv('sub.csv', index=False)"
   ]
  },
  {
   "cell_type": "code",
   "execution_count": null,
   "metadata": {
    "collapsed": true
   },
   "outputs": [],
   "source": []
  }
 ],
 "metadata": {
  "kernelspec": {
   "display_name": "Python 2",
   "language": "python",
   "name": "python2"
  },
  "language_info": {
   "codemirror_mode": {
    "name": "ipython",
    "version": 2
   },
   "file_extension": ".py",
   "mimetype": "text/x-python",
   "name": "python",
   "nbconvert_exporter": "python",
   "pygments_lexer": "ipython2",
   "version": "2.7.13"
  }
 },
 "nbformat": 4,
 "nbformat_minor": 2
}
