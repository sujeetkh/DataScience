{
 "cells": [
  {
   "cell_type": "code",
   "execution_count": 1,
   "metadata": {},
   "outputs": [
    {
     "name": "stderr",
     "output_type": "stream",
     "text": [
      "/Users/admin/softs/anaconda/lib/python2.7/site-packages/IPython/core/interactiveshell.py:2717: DtypeWarning: Columns (20,21) have mixed types. Specify dtype option on import or set low_memory=False.\n",
      "  interactivity=interactivity, compiler=compiler, result=result)\n"
     ]
    }
   ],
   "source": [
    "import numpy as np\n",
    "import pandas as pd\n",
    "revenue_train=pd.read_csv('data/patient_monthwise_revenue_train.csv')\n",
    "diagnosis_train=pd.read_csv('data/physio_diagnosis_train.csv')\n",
    "classified_train=pd.read_csv('data/patient_train_classified.csv')\n",
    "appts_train=pd.read_csv('data/physio_appts_train.csv')"
   ]
  },
  {
   "cell_type": "code",
   "execution_count": 2,
   "metadata": {},
   "outputs": [
    {
     "name": "stderr",
     "output_type": "stream",
     "text": [
      "/Users/admin/softs/anaconda/lib/python2.7/site-packages/IPython/core/interactiveshell.py:2717: DtypeWarning: Columns (19) have mixed types. Specify dtype option on import or set low_memory=False.\n",
      "  interactivity=interactivity, compiler=compiler, result=result)\n"
     ]
    }
   ],
   "source": [
    "revenue_test=pd.read_csv('data/patient_monthwise_revenue_test.csv')\n",
    "diagnosis_test=pd.read_csv('data/physio_diagnosis_test.csv')\n",
    "submission=pd.read_csv('data/Submission.csv')"
   ]
  },
  {
   "cell_type": "code",
   "execution_count": 4,
   "metadata": {},
   "outputs": [
    {
     "data": {
      "text/html": [
       "<div>\n",
       "<style>\n",
       "    .dataframe thead tr:only-child th {\n",
       "        text-align: right;\n",
       "    }\n",
       "\n",
       "    .dataframe thead th {\n",
       "        text-align: left;\n",
       "    }\n",
       "\n",
       "    .dataframe tbody tr th {\n",
       "        vertical-align: top;\n",
       "    }\n",
       "</style>\n",
       "<table border=\"1\" class=\"dataframe\">\n",
       "  <thead>\n",
       "    <tr style=\"text-align: right;\">\n",
       "      <th></th>\n",
       "      <th>patient_id</th>\n",
       "      <th>visit_month_year</th>\n",
       "      <th>service_id</th>\n",
       "      <th>visits_count</th>\n",
       "      <th>city</th>\n",
       "      <th>revenue</th>\n",
       "      <th>ref_type</th>\n",
       "      <th>ref_name</th>\n",
       "      <th>ref_source</th>\n",
       "      <th>service_name</th>\n",
       "      <th>...</th>\n",
       "      <th>FVS</th>\n",
       "      <th>approx_age</th>\n",
       "      <th>gender</th>\n",
       "      <th>LVD</th>\n",
       "      <th>brand</th>\n",
       "      <th>visits_required</th>\n",
       "      <th>diagnosis</th>\n",
       "      <th>avg_nps</th>\n",
       "      <th>Unnamed: 20</th>\n",
       "      <th>Unnamed: 21</th>\n",
       "    </tr>\n",
       "  </thead>\n",
       "  <tbody>\n",
       "    <tr>\n",
       "      <th>0</th>\n",
       "      <td>10020</td>\n",
       "      <td>04/15</td>\n",
       "      <td>2</td>\n",
       "      <td>1</td>\n",
       "      <td>Chennai</td>\n",
       "      <td>500.0</td>\n",
       "      <td>B2C</td>\n",
       "      <td>None</td>\n",
       "      <td>Direct Organic</td>\n",
       "      <td>P</td>\n",
       "      <td>...</td>\n",
       "      <td>P</td>\n",
       "      <td>62</td>\n",
       "      <td>male</td>\n",
       "      <td>21/04/2015</td>\n",
       "      <td>Portea</td>\n",
       "      <td>1</td>\n",
       "      <td>Post Operative condition of Cardiac Valve repl...</td>\n",
       "      <td>\\N</td>\n",
       "      <td>NaN</td>\n",
       "      <td>NaN</td>\n",
       "    </tr>\n",
       "  </tbody>\n",
       "</table>\n",
       "<p>1 rows × 22 columns</p>\n",
       "</div>"
      ],
      "text/plain": [
       "   patient_id visit_month_year  service_id  visits_count     city  revenue  \\\n",
       "0       10020            04/15           2             1  Chennai    500.0   \n",
       "\n",
       "  ref_type ref_name      ref_source service_name     ...     FVS approx_age  \\\n",
       "0      B2C     None  Direct Organic            P     ...       P         62   \n",
       "\n",
       "  gender         LVD   brand visits_required  \\\n",
       "0   male  21/04/2015  Portea               1   \n",
       "\n",
       "                                           diagnosis  avg_nps Unnamed: 20  \\\n",
       "0  Post Operative condition of Cardiac Valve repl...       \\N         NaN   \n",
       "\n",
       "  Unnamed: 21  \n",
       "0         NaN  \n",
       "\n",
       "[1 rows x 22 columns]"
      ]
     },
     "execution_count": 4,
     "metadata": {},
     "output_type": "execute_result"
    }
   ],
   "source": [
    "revenue_train.head(1)"
   ]
  },
  {
   "cell_type": "code",
   "execution_count": 6,
   "metadata": {},
   "outputs": [
    {
     "data": {
      "text/html": [
       "<div>\n",
       "<style>\n",
       "    .dataframe thead tr:only-child th {\n",
       "        text-align: right;\n",
       "    }\n",
       "\n",
       "    .dataframe thead th {\n",
       "        text-align: left;\n",
       "    }\n",
       "\n",
       "    .dataframe tbody tr th {\n",
       "        vertical-align: top;\n",
       "    }\n",
       "</style>\n",
       "<table border=\"1\" class=\"dataframe\">\n",
       "  <thead>\n",
       "    <tr style=\"text-align: right;\">\n",
       "      <th></th>\n",
       "      <th>patient_id</th>\n",
       "      <th>diagnosis</th>\n",
       "      <th>Service</th>\n",
       "      <th>Appt_id</th>\n",
       "      <th>AGE</th>\n",
       "      <th>gender</th>\n",
       "      <th>LVD</th>\n",
       "      <th>Unnamed: 7</th>\n",
       "      <th>Unnamed: 8</th>\n",
       "    </tr>\n",
       "  </thead>\n",
       "  <tbody>\n",
       "    <tr>\n",
       "      <th>0</th>\n",
       "      <td>10020</td>\n",
       "      <td>Post Operative condition of Cardiac Valve repl...</td>\n",
       "      <td>physiotherapy</td>\n",
       "      <td>432155</td>\n",
       "      <td>62</td>\n",
       "      <td>male</td>\n",
       "      <td>21/04/2015</td>\n",
       "      <td>NaN</td>\n",
       "      <td>NaN</td>\n",
       "    </tr>\n",
       "  </tbody>\n",
       "</table>\n",
       "</div>"
      ],
      "text/plain": [
       "   patient_id                                          diagnosis  \\\n",
       "0       10020  Post Operative condition of Cardiac Valve repl...   \n",
       "\n",
       "         Service Appt_id AGE gender         LVD Unnamed: 7 Unnamed: 8  \n",
       "0  physiotherapy  432155  62   male  21/04/2015        NaN        NaN  "
      ]
     },
     "execution_count": 6,
     "metadata": {},
     "output_type": "execute_result"
    }
   ],
   "source": [
    "diagnosis_train.rename(columns={'patientId': 'patient_id'}, inplace=True)\n",
    "diagnosis_train.head(1)"
   ]
  },
  {
   "cell_type": "code",
   "execution_count": 7,
   "metadata": {},
   "outputs": [],
   "source": [
    "train_data=pd.merge(revenue_train,diagnosis_train,how='left',on='patient_id')"
   ]
  },
  {
   "cell_type": "code",
   "execution_count": 8,
   "metadata": {},
   "outputs": [
    {
     "data": {
      "text/html": [
       "<div>\n",
       "<style>\n",
       "    .dataframe thead tr:only-child th {\n",
       "        text-align: right;\n",
       "    }\n",
       "\n",
       "    .dataframe thead th {\n",
       "        text-align: left;\n",
       "    }\n",
       "\n",
       "    .dataframe tbody tr th {\n",
       "        vertical-align: top;\n",
       "    }\n",
       "</style>\n",
       "<table border=\"1\" class=\"dataframe\">\n",
       "  <thead>\n",
       "    <tr style=\"text-align: right;\">\n",
       "      <th></th>\n",
       "      <th>patient_id</th>\n",
       "      <th>visit_month_year</th>\n",
       "      <th>service_id</th>\n",
       "      <th>visits_count</th>\n",
       "      <th>city</th>\n",
       "      <th>revenue</th>\n",
       "      <th>ref_type</th>\n",
       "      <th>ref_name</th>\n",
       "      <th>ref_source</th>\n",
       "      <th>service_name</th>\n",
       "      <th>...</th>\n",
       "      <th>Unnamed: 20</th>\n",
       "      <th>Unnamed: 21</th>\n",
       "      <th>diagnosis_y</th>\n",
       "      <th>Service</th>\n",
       "      <th>Appt_id</th>\n",
       "      <th>AGE</th>\n",
       "      <th>gender_y</th>\n",
       "      <th>LVD_y</th>\n",
       "      <th>Unnamed: 7</th>\n",
       "      <th>Unnamed: 8</th>\n",
       "    </tr>\n",
       "  </thead>\n",
       "  <tbody>\n",
       "    <tr>\n",
       "      <th>0</th>\n",
       "      <td>10020</td>\n",
       "      <td>04/15</td>\n",
       "      <td>2</td>\n",
       "      <td>1</td>\n",
       "      <td>Chennai</td>\n",
       "      <td>500.0</td>\n",
       "      <td>B2C</td>\n",
       "      <td>None</td>\n",
       "      <td>Direct Organic</td>\n",
       "      <td>P</td>\n",
       "      <td>...</td>\n",
       "      <td>NaN</td>\n",
       "      <td>NaN</td>\n",
       "      <td>Post Operative condition of Cardiac Valve repl...</td>\n",
       "      <td>physiotherapy</td>\n",
       "      <td>432155</td>\n",
       "      <td>62</td>\n",
       "      <td>male</td>\n",
       "      <td>21/04/2015</td>\n",
       "      <td>NaN</td>\n",
       "      <td>NaN</td>\n",
       "    </tr>\n",
       "    <tr>\n",
       "      <th>1</th>\n",
       "      <td>10293</td>\n",
       "      <td>04/17</td>\n",
       "      <td>2</td>\n",
       "      <td>7</td>\n",
       "      <td>Mumbai</td>\n",
       "      <td>4900.0</td>\n",
       "      <td>B2C</td>\n",
       "      <td>Facebook</td>\n",
       "      <td>Digital + ATL</td>\n",
       "      <td>P</td>\n",
       "      <td>...</td>\n",
       "      <td>NaN</td>\n",
       "      <td>NaN</td>\n",
       "      <td>Rheumatoid arthritis</td>\n",
       "      <td>physiotherapy</td>\n",
       "      <td>2617156</td>\n",
       "      <td>42</td>\n",
       "      <td>female</td>\n",
       "      <td>25/04/2017</td>\n",
       "      <td>NaN</td>\n",
       "      <td>NaN</td>\n",
       "    </tr>\n",
       "    <tr>\n",
       "      <th>2</th>\n",
       "      <td>10381</td>\n",
       "      <td>07/15</td>\n",
       "      <td>2</td>\n",
       "      <td>1</td>\n",
       "      <td>NCR</td>\n",
       "      <td>500.0</td>\n",
       "      <td>B2C</td>\n",
       "      <td>None</td>\n",
       "      <td>Direct Organic</td>\n",
       "      <td>P</td>\n",
       "      <td>...</td>\n",
       "      <td>NaN</td>\n",
       "      <td>NaN</td>\n",
       "      <td>frozen shoulder</td>\n",
       "      <td>physiotherapy</td>\n",
       "      <td>675822</td>\n",
       "      <td>67</td>\n",
       "      <td>male</td>\n",
       "      <td>11/09/2015</td>\n",
       "      <td>NaN</td>\n",
       "      <td>NaN</td>\n",
       "    </tr>\n",
       "  </tbody>\n",
       "</table>\n",
       "<p>3 rows × 30 columns</p>\n",
       "</div>"
      ],
      "text/plain": [
       "   patient_id visit_month_year  service_id  visits_count     city  revenue  \\\n",
       "0       10020            04/15           2             1  Chennai    500.0   \n",
       "1       10293            04/17           2             7   Mumbai   4900.0   \n",
       "2       10381            07/15           2             1      NCR    500.0   \n",
       "\n",
       "  ref_type  ref_name      ref_source service_name    ...     Unnamed: 20  \\\n",
       "0      B2C      None  Direct Organic            P    ...             NaN   \n",
       "1      B2C  Facebook   Digital + ATL            P    ...             NaN   \n",
       "2      B2C      None  Direct Organic            P    ...             NaN   \n",
       "\n",
       "  Unnamed: 21                                        diagnosis_y  \\\n",
       "0         NaN  Post Operative condition of Cardiac Valve repl...   \n",
       "1         NaN                               Rheumatoid arthritis   \n",
       "2         NaN                                    frozen shoulder   \n",
       "\n",
       "         Service  Appt_id AGE gender_y       LVD_y Unnamed: 7 Unnamed: 8  \n",
       "0  physiotherapy   432155  62     male  21/04/2015        NaN        NaN  \n",
       "1  physiotherapy  2617156  42   female  25/04/2017        NaN        NaN  \n",
       "2  physiotherapy   675822  67     male  11/09/2015        NaN        NaN  \n",
       "\n",
       "[3 rows x 30 columns]"
      ]
     },
     "execution_count": 8,
     "metadata": {},
     "output_type": "execute_result"
    }
   ],
   "source": [
    "train_data.head(3)"
   ]
  },
  {
   "cell_type": "code",
   "execution_count": 9,
   "metadata": {},
   "outputs": [
    {
     "data": {
      "text/html": [
       "<div>\n",
       "<style>\n",
       "    .dataframe thead tr:only-child th {\n",
       "        text-align: right;\n",
       "    }\n",
       "\n",
       "    .dataframe thead th {\n",
       "        text-align: left;\n",
       "    }\n",
       "\n",
       "    .dataframe tbody tr th {\n",
       "        vertical-align: top;\n",
       "    }\n",
       "</style>\n",
       "<table border=\"1\" class=\"dataframe\">\n",
       "  <thead>\n",
       "    <tr style=\"text-align: right;\">\n",
       "      <th></th>\n",
       "      <th>PID</th>\n",
       "      <th>Bucket</th>\n",
       "      <th>Revenue</th>\n",
       "    </tr>\n",
       "  </thead>\n",
       "  <tbody>\n",
       "    <tr>\n",
       "      <th>0</th>\n",
       "      <td>400061</td>\n",
       "      <td>Med</td>\n",
       "      <td>1200.0</td>\n",
       "    </tr>\n",
       "    <tr>\n",
       "      <th>1</th>\n",
       "      <td>25535</td>\n",
       "      <td>High</td>\n",
       "      <td>25150.0</td>\n",
       "    </tr>\n",
       "  </tbody>\n",
       "</table>\n",
       "</div>"
      ],
      "text/plain": [
       "      PID Bucket  Revenue\n",
       "0  400061    Med   1200.0\n",
       "1   25535   High  25150.0"
      ]
     },
     "execution_count": 9,
     "metadata": {},
     "output_type": "execute_result"
    }
   ],
   "source": [
    "classified_train.head(2)"
   ]
  },
  {
   "cell_type": "code",
   "execution_count": 10,
   "metadata": {},
   "outputs": [
    {
     "data": {
      "text/html": [
       "<div>\n",
       "<style>\n",
       "    .dataframe thead tr:only-child th {\n",
       "        text-align: right;\n",
       "    }\n",
       "\n",
       "    .dataframe thead th {\n",
       "        text-align: left;\n",
       "    }\n",
       "\n",
       "    .dataframe tbody tr th {\n",
       "        vertical-align: top;\n",
       "    }\n",
       "</style>\n",
       "<table border=\"1\" class=\"dataframe\">\n",
       "  <thead>\n",
       "    <tr style=\"text-align: right;\">\n",
       "      <th></th>\n",
       "      <th>patient_id</th>\n",
       "      <th>Bucket</th>\n",
       "      <th>Revenue</th>\n",
       "    </tr>\n",
       "  </thead>\n",
       "  <tbody>\n",
       "    <tr>\n",
       "      <th>0</th>\n",
       "      <td>400061</td>\n",
       "      <td>Med</td>\n",
       "      <td>1200.0</td>\n",
       "    </tr>\n",
       "    <tr>\n",
       "      <th>1</th>\n",
       "      <td>25535</td>\n",
       "      <td>High</td>\n",
       "      <td>25150.0</td>\n",
       "    </tr>\n",
       "  </tbody>\n",
       "</table>\n",
       "</div>"
      ],
      "text/plain": [
       "   patient_id Bucket  Revenue\n",
       "0      400061    Med   1200.0\n",
       "1       25535   High  25150.0"
      ]
     },
     "execution_count": 10,
     "metadata": {},
     "output_type": "execute_result"
    }
   ],
   "source": [
    "classified_train.rename(columns={'PID': 'patient_id'}, inplace=True)\n",
    "classified_train.head(2)"
   ]
  },
  {
   "cell_type": "code",
   "execution_count": 11,
   "metadata": {
    "collapsed": true
   },
   "outputs": [],
   "source": [
    "train_data=pd.merge(train_data,classified_train,how='left',on='patient_id')"
   ]
  },
  {
   "cell_type": "code",
   "execution_count": 12,
   "metadata": {},
   "outputs": [
    {
     "name": "stdout",
     "output_type": "stream",
     "text": [
      "<class 'pandas.core.frame.DataFrame'>\n",
      "Int64Index: 83307 entries, 0 to 83306\n",
      "Data columns (total 32 columns):\n",
      "patient_id          83307 non-null int64\n",
      "visit_month_year    83307 non-null object\n",
      "service_id          83307 non-null int64\n",
      "visits_count        83307 non-null int64\n",
      "city                83307 non-null object\n",
      "revenue             83307 non-null float64\n",
      "ref_type            83307 non-null object\n",
      "ref_name            83307 non-null object\n",
      "ref_source          83307 non-null object\n",
      "service_name        82084 non-null object\n",
      "FVD                 83307 non-null object\n",
      "FVM                 83307 non-null object\n",
      "FVS                 83307 non-null object\n",
      "approx_age          83307 non-null object\n",
      "gender_x            83274 non-null object\n",
      "LVD_x               83307 non-null object\n",
      "brand               83307 non-null object\n",
      "visits_required     83307 non-null int64\n",
      "diagnosis_x         81574 non-null object\n",
      "avg_nps             83307 non-null object\n",
      "Unnamed: 20         40 non-null object\n",
      "Unnamed: 21         16 non-null object\n",
      "diagnosis_y         81570 non-null object\n",
      "Service             83307 non-null object\n",
      "Appt_id             83292 non-null object\n",
      "AGE                 83307 non-null object\n",
      "gender_y            83274 non-null object\n",
      "LVD_y               83307 non-null object\n",
      "Unnamed: 7          43 non-null object\n",
      "Unnamed: 8          16 non-null object\n",
      "Bucket              83307 non-null object\n",
      "Revenue             83307 non-null float64\n",
      "dtypes: float64(2), int64(4), object(26)\n",
      "memory usage: 21.0+ MB\n"
     ]
    }
   ],
   "source": [
    "train_data.info()"
   ]
  },
  {
   "cell_type": "code",
   "execution_count": 23,
   "metadata": {},
   "outputs": [],
   "source": [
    "train_data.drop(['Unnamed: 7','Unnamed: 8','Unnamed: 20','Unnamed: 21'],axis = 1, inplace=True)"
   ]
  },
  {
   "cell_type": "code",
   "execution_count": 24,
   "metadata": {},
   "outputs": [
    {
     "data": {
      "text/html": [
       "<div>\n",
       "<style>\n",
       "    .dataframe thead tr:only-child th {\n",
       "        text-align: right;\n",
       "    }\n",
       "\n",
       "    .dataframe thead th {\n",
       "        text-align: left;\n",
       "    }\n",
       "\n",
       "    .dataframe tbody tr th {\n",
       "        vertical-align: top;\n",
       "    }\n",
       "</style>\n",
       "<table border=\"1\" class=\"dataframe\">\n",
       "  <thead>\n",
       "    <tr style=\"text-align: right;\">\n",
       "      <th></th>\n",
       "      <th>patient_id</th>\n",
       "      <th>visit_month_year</th>\n",
       "      <th>service_id</th>\n",
       "      <th>visits_count</th>\n",
       "      <th>city</th>\n",
       "      <th>revenue</th>\n",
       "      <th>ref_type</th>\n",
       "      <th>ref_name</th>\n",
       "      <th>ref_source</th>\n",
       "      <th>service_name</th>\n",
       "      <th>...</th>\n",
       "      <th>diagnosis_x</th>\n",
       "      <th>avg_nps</th>\n",
       "      <th>diagnosis_y</th>\n",
       "      <th>Service</th>\n",
       "      <th>Appt_id</th>\n",
       "      <th>AGE</th>\n",
       "      <th>gender_y</th>\n",
       "      <th>LVD_y</th>\n",
       "      <th>Bucket</th>\n",
       "      <th>Revenue</th>\n",
       "    </tr>\n",
       "  </thead>\n",
       "  <tbody>\n",
       "    <tr>\n",
       "      <th>0</th>\n",
       "      <td>10020</td>\n",
       "      <td>04/15</td>\n",
       "      <td>2</td>\n",
       "      <td>1</td>\n",
       "      <td>Chennai</td>\n",
       "      <td>500.0</td>\n",
       "      <td>B2C</td>\n",
       "      <td>None</td>\n",
       "      <td>Direct Organic</td>\n",
       "      <td>P</td>\n",
       "      <td>...</td>\n",
       "      <td>Post Operative condition of Cardiac Valve repl...</td>\n",
       "      <td>\\N</td>\n",
       "      <td>Post Operative condition of Cardiac Valve repl...</td>\n",
       "      <td>physiotherapy</td>\n",
       "      <td>432155</td>\n",
       "      <td>62</td>\n",
       "      <td>male</td>\n",
       "      <td>21/04/2015</td>\n",
       "      <td>Low</td>\n",
       "      <td>500.0</td>\n",
       "    </tr>\n",
       "    <tr>\n",
       "      <th>1</th>\n",
       "      <td>10293</td>\n",
       "      <td>04/17</td>\n",
       "      <td>2</td>\n",
       "      <td>7</td>\n",
       "      <td>Mumbai</td>\n",
       "      <td>4900.0</td>\n",
       "      <td>B2C</td>\n",
       "      <td>Facebook</td>\n",
       "      <td>Digital + ATL</td>\n",
       "      <td>P</td>\n",
       "      <td>...</td>\n",
       "      <td>Rheumatoid arthritis</td>\n",
       "      <td>9</td>\n",
       "      <td>Rheumatoid arthritis</td>\n",
       "      <td>physiotherapy</td>\n",
       "      <td>2617156</td>\n",
       "      <td>42</td>\n",
       "      <td>female</td>\n",
       "      <td>25/04/2017</td>\n",
       "      <td>Med</td>\n",
       "      <td>4900.0</td>\n",
       "    </tr>\n",
       "    <tr>\n",
       "      <th>2</th>\n",
       "      <td>10381</td>\n",
       "      <td>07/15</td>\n",
       "      <td>2</td>\n",
       "      <td>1</td>\n",
       "      <td>NCR</td>\n",
       "      <td>500.0</td>\n",
       "      <td>B2C</td>\n",
       "      <td>None</td>\n",
       "      <td>Direct Organic</td>\n",
       "      <td>P</td>\n",
       "      <td>...</td>\n",
       "      <td>frozen shoulder</td>\n",
       "      <td>8</td>\n",
       "      <td>frozen shoulder</td>\n",
       "      <td>physiotherapy</td>\n",
       "      <td>675822</td>\n",
       "      <td>67</td>\n",
       "      <td>male</td>\n",
       "      <td>11/09/2015</td>\n",
       "      <td>High</td>\n",
       "      <td>12250.0</td>\n",
       "    </tr>\n",
       "  </tbody>\n",
       "</table>\n",
       "<p>3 rows × 28 columns</p>\n",
       "</div>"
      ],
      "text/plain": [
       "   patient_id visit_month_year  service_id  visits_count     city  revenue  \\\n",
       "0       10020            04/15           2             1  Chennai    500.0   \n",
       "1       10293            04/17           2             7   Mumbai   4900.0   \n",
       "2       10381            07/15           2             1      NCR    500.0   \n",
       "\n",
       "  ref_type  ref_name      ref_source service_name   ...     \\\n",
       "0      B2C      None  Direct Organic            P   ...      \n",
       "1      B2C  Facebook   Digital + ATL            P   ...      \n",
       "2      B2C      None  Direct Organic            P   ...      \n",
       "\n",
       "                                         diagnosis_x avg_nps  \\\n",
       "0  Post Operative condition of Cardiac Valve repl...      \\N   \n",
       "1                               Rheumatoid arthritis       9   \n",
       "2                                    frozen shoulder       8   \n",
       "\n",
       "                                         diagnosis_y        Service  Appt_id  \\\n",
       "0  Post Operative condition of Cardiac Valve repl...  physiotherapy   432155   \n",
       "1                               Rheumatoid arthritis  physiotherapy  2617156   \n",
       "2                                    frozen shoulder  physiotherapy   675822   \n",
       "\n",
       "  AGE gender_y       LVD_y Bucket  Revenue  \n",
       "0  62     male  21/04/2015    Low    500.0  \n",
       "1  42   female  25/04/2017    Med   4900.0  \n",
       "2  67     male  11/09/2015   High  12250.0  \n",
       "\n",
       "[3 rows x 28 columns]"
      ]
     },
     "execution_count": 24,
     "metadata": {},
     "output_type": "execute_result"
    }
   ],
   "source": [
    "train_data.head(3)"
   ]
  },
  {
   "cell_type": "code",
   "execution_count": 25,
   "metadata": {},
   "outputs": [
    {
     "name": "stdout",
     "output_type": "stream",
     "text": [
      "<class 'pandas.core.frame.DataFrame'>\n",
      "Int64Index: 83307 entries, 0 to 83306\n",
      "Data columns (total 28 columns):\n",
      "patient_id          83307 non-null int64\n",
      "visit_month_year    83307 non-null object\n",
      "service_id          83307 non-null int64\n",
      "visits_count        83307 non-null int64\n",
      "city                83307 non-null object\n",
      "revenue             83307 non-null float64\n",
      "ref_type            83307 non-null object\n",
      "ref_name            83307 non-null object\n",
      "ref_source          83307 non-null object\n",
      "service_name        82084 non-null object\n",
      "FVD                 83307 non-null object\n",
      "FVM                 83307 non-null object\n",
      "FVS                 83307 non-null object\n",
      "approx_age          83307 non-null object\n",
      "gender_x            83274 non-null object\n",
      "LVD_x               83307 non-null object\n",
      "brand               83307 non-null object\n",
      "visits_required     83307 non-null int64\n",
      "diagnosis_x         81574 non-null object\n",
      "avg_nps             83307 non-null object\n",
      "diagnosis_y         81570 non-null object\n",
      "Service             83307 non-null object\n",
      "Appt_id             83292 non-null object\n",
      "AGE                 83307 non-null object\n",
      "gender_y            83274 non-null object\n",
      "LVD_y               83307 non-null object\n",
      "Bucket              83307 non-null object\n",
      "Revenue             83307 non-null float64\n",
      "dtypes: float64(2), int64(4), object(22)\n",
      "memory usage: 20.9+ MB\n"
     ]
    }
   ],
   "source": [
    "train_data.info()"
   ]
  },
  {
   "cell_type": "code",
   "execution_count": 26,
   "metadata": {},
   "outputs": [
    {
     "data": {
      "text/html": [
       "<div>\n",
       "<style>\n",
       "    .dataframe thead tr:only-child th {\n",
       "        text-align: right;\n",
       "    }\n",
       "\n",
       "    .dataframe thead th {\n",
       "        text-align: left;\n",
       "    }\n",
       "\n",
       "    .dataframe tbody tr th {\n",
       "        vertical-align: top;\n",
       "    }\n",
       "</style>\n",
       "<table border=\"1\" class=\"dataframe\">\n",
       "  <thead>\n",
       "    <tr style=\"text-align: right;\">\n",
       "      <th></th>\n",
       "      <th>gender_x</th>\n",
       "      <th>gender_y</th>\n",
       "      <th>LVD_x</th>\n",
       "      <th>LVD_y</th>\n",
       "      <th>diagnosis_x</th>\n",
       "      <th>diagnosis_y</th>\n",
       "    </tr>\n",
       "  </thead>\n",
       "  <tbody>\n",
       "    <tr>\n",
       "      <th>0</th>\n",
       "      <td>male</td>\n",
       "      <td>male</td>\n",
       "      <td>21/04/2015</td>\n",
       "      <td>21/04/2015</td>\n",
       "      <td>Post Operative condition of Cardiac Valve repl...</td>\n",
       "      <td>Post Operative condition of Cardiac Valve repl...</td>\n",
       "    </tr>\n",
       "    <tr>\n",
       "      <th>1</th>\n",
       "      <td>female</td>\n",
       "      <td>female</td>\n",
       "      <td>25/04/2017</td>\n",
       "      <td>25/04/2017</td>\n",
       "      <td>Rheumatoid arthritis</td>\n",
       "      <td>Rheumatoid arthritis</td>\n",
       "    </tr>\n",
       "    <tr>\n",
       "      <th>2</th>\n",
       "      <td>male</td>\n",
       "      <td>male</td>\n",
       "      <td>11/09/2015</td>\n",
       "      <td>11/09/2015</td>\n",
       "      <td>frozen shoulder</td>\n",
       "      <td>frozen shoulder</td>\n",
       "    </tr>\n",
       "    <tr>\n",
       "      <th>3</th>\n",
       "      <td>male</td>\n",
       "      <td>male</td>\n",
       "      <td>11/09/2015</td>\n",
       "      <td>11/09/2015</td>\n",
       "      <td>frozen shoulder</td>\n",
       "      <td>frozen shoulder</td>\n",
       "    </tr>\n",
       "    <tr>\n",
       "      <th>4</th>\n",
       "      <td>male</td>\n",
       "      <td>male</td>\n",
       "      <td>11/09/2015</td>\n",
       "      <td>11/09/2015</td>\n",
       "      <td>frozen shoulder</td>\n",
       "      <td>frozen shoulder</td>\n",
       "    </tr>\n",
       "    <tr>\n",
       "      <th>5</th>\n",
       "      <td>male</td>\n",
       "      <td>male</td>\n",
       "      <td>11/09/2015</td>\n",
       "      <td>11/09/2015</td>\n",
       "      <td>frozen shoulder</td>\n",
       "      <td>frozen shoulder</td>\n",
       "    </tr>\n",
       "    <tr>\n",
       "      <th>6</th>\n",
       "      <td>female</td>\n",
       "      <td>female</td>\n",
       "      <td>28/04/2017</td>\n",
       "      <td>28/04/2017</td>\n",
       "      <td>Osteoarthritis,Bilateral Osteoarthritis</td>\n",
       "      <td>Osteoarthritis,Bilateral Osteoarthritis</td>\n",
       "    </tr>\n",
       "    <tr>\n",
       "      <th>7</th>\n",
       "      <td>female</td>\n",
       "      <td>female</td>\n",
       "      <td>28/04/2017</td>\n",
       "      <td>28/04/2017</td>\n",
       "      <td>Osteoarthritis,Bilateral Osteoarthritis</td>\n",
       "      <td>Osteoarthritis,Bilateral Osteoarthritis</td>\n",
       "    </tr>\n",
       "    <tr>\n",
       "      <th>8</th>\n",
       "      <td>female</td>\n",
       "      <td>female</td>\n",
       "      <td>28/04/2017</td>\n",
       "      <td>28/04/2017</td>\n",
       "      <td>Osteoarthritis,Bilateral Osteoarthritis</td>\n",
       "      <td>Osteoarthritis,Bilateral Osteoarthritis</td>\n",
       "    </tr>\n",
       "    <tr>\n",
       "      <th>9</th>\n",
       "      <td>female</td>\n",
       "      <td>female</td>\n",
       "      <td>28/04/2017</td>\n",
       "      <td>28/04/2017</td>\n",
       "      <td>Osteoarthritis,Bilateral Osteoarthritis</td>\n",
       "      <td>Osteoarthritis,Bilateral Osteoarthritis</td>\n",
       "    </tr>\n",
       "  </tbody>\n",
       "</table>\n",
       "</div>"
      ],
      "text/plain": [
       "  gender_x gender_y       LVD_x       LVD_y  \\\n",
       "0     male     male  21/04/2015  21/04/2015   \n",
       "1   female   female  25/04/2017  25/04/2017   \n",
       "2     male     male  11/09/2015  11/09/2015   \n",
       "3     male     male  11/09/2015  11/09/2015   \n",
       "4     male     male  11/09/2015  11/09/2015   \n",
       "5     male     male  11/09/2015  11/09/2015   \n",
       "6   female   female  28/04/2017  28/04/2017   \n",
       "7   female   female  28/04/2017  28/04/2017   \n",
       "8   female   female  28/04/2017  28/04/2017   \n",
       "9   female   female  28/04/2017  28/04/2017   \n",
       "\n",
       "                                         diagnosis_x  \\\n",
       "0  Post Operative condition of Cardiac Valve repl...   \n",
       "1                               Rheumatoid arthritis   \n",
       "2                                    frozen shoulder   \n",
       "3                                    frozen shoulder   \n",
       "4                                    frozen shoulder   \n",
       "5                                    frozen shoulder   \n",
       "6            Osteoarthritis,Bilateral Osteoarthritis   \n",
       "7            Osteoarthritis,Bilateral Osteoarthritis   \n",
       "8            Osteoarthritis,Bilateral Osteoarthritis   \n",
       "9            Osteoarthritis,Bilateral Osteoarthritis   \n",
       "\n",
       "                                         diagnosis_y  \n",
       "0  Post Operative condition of Cardiac Valve repl...  \n",
       "1                               Rheumatoid arthritis  \n",
       "2                                    frozen shoulder  \n",
       "3                                    frozen shoulder  \n",
       "4                                    frozen shoulder  \n",
       "5                                    frozen shoulder  \n",
       "6            Osteoarthritis,Bilateral Osteoarthritis  \n",
       "7            Osteoarthritis,Bilateral Osteoarthritis  \n",
       "8            Osteoarthritis,Bilateral Osteoarthritis  \n",
       "9            Osteoarthritis,Bilateral Osteoarthritis  "
      ]
     },
     "execution_count": 26,
     "metadata": {},
     "output_type": "execute_result"
    }
   ],
   "source": [
    "train_data[['gender_x','gender_y','LVD_x','LVD_y','diagnosis_x','diagnosis_y']].head(10)"
   ]
  },
  {
   "cell_type": "code",
   "execution_count": 27,
   "metadata": {},
   "outputs": [],
   "source": [
    "train_data.drop(['gender_y','LVD_y','diagnosis_y'],axis = 1, inplace=True)"
   ]
  },
  {
   "cell_type": "code",
   "execution_count": 29,
   "metadata": {},
   "outputs": [],
   "source": [
    "train_data.rename(columns={'gender_x': 'gender','LVD_x': 'LVD','diagnosis_x': 'diagnosis'}, inplace=True)"
   ]
  },
  {
   "cell_type": "code",
   "execution_count": 30,
   "metadata": {},
   "outputs": [
    {
     "data": {
      "text/html": [
       "<div>\n",
       "<style>\n",
       "    .dataframe thead tr:only-child th {\n",
       "        text-align: right;\n",
       "    }\n",
       "\n",
       "    .dataframe thead th {\n",
       "        text-align: left;\n",
       "    }\n",
       "\n",
       "    .dataframe tbody tr th {\n",
       "        vertical-align: top;\n",
       "    }\n",
       "</style>\n",
       "<table border=\"1\" class=\"dataframe\">\n",
       "  <thead>\n",
       "    <tr style=\"text-align: right;\">\n",
       "      <th></th>\n",
       "      <th>patient_id</th>\n",
       "      <th>visit_month_year</th>\n",
       "      <th>service_id</th>\n",
       "      <th>visits_count</th>\n",
       "      <th>city</th>\n",
       "      <th>revenue</th>\n",
       "      <th>ref_type</th>\n",
       "      <th>ref_name</th>\n",
       "      <th>ref_source</th>\n",
       "      <th>service_name</th>\n",
       "      <th>...</th>\n",
       "      <th>LVD</th>\n",
       "      <th>brand</th>\n",
       "      <th>visits_required</th>\n",
       "      <th>diagnosis</th>\n",
       "      <th>avg_nps</th>\n",
       "      <th>Service</th>\n",
       "      <th>Appt_id</th>\n",
       "      <th>AGE</th>\n",
       "      <th>Bucket</th>\n",
       "      <th>Revenue</th>\n",
       "    </tr>\n",
       "  </thead>\n",
       "  <tbody>\n",
       "    <tr>\n",
       "      <th>0</th>\n",
       "      <td>10020</td>\n",
       "      <td>04/15</td>\n",
       "      <td>2</td>\n",
       "      <td>1</td>\n",
       "      <td>Chennai</td>\n",
       "      <td>500.0</td>\n",
       "      <td>B2C</td>\n",
       "      <td>None</td>\n",
       "      <td>Direct Organic</td>\n",
       "      <td>P</td>\n",
       "      <td>...</td>\n",
       "      <td>21/04/2015</td>\n",
       "      <td>Portea</td>\n",
       "      <td>1</td>\n",
       "      <td>Post Operative condition of Cardiac Valve repl...</td>\n",
       "      <td>\\N</td>\n",
       "      <td>physiotherapy</td>\n",
       "      <td>432155</td>\n",
       "      <td>62</td>\n",
       "      <td>Low</td>\n",
       "      <td>500.0</td>\n",
       "    </tr>\n",
       "    <tr>\n",
       "      <th>1</th>\n",
       "      <td>10293</td>\n",
       "      <td>04/17</td>\n",
       "      <td>2</td>\n",
       "      <td>7</td>\n",
       "      <td>Mumbai</td>\n",
       "      <td>4900.0</td>\n",
       "      <td>B2C</td>\n",
       "      <td>Facebook</td>\n",
       "      <td>Digital + ATL</td>\n",
       "      <td>P</td>\n",
       "      <td>...</td>\n",
       "      <td>25/04/2017</td>\n",
       "      <td>Portea</td>\n",
       "      <td>8</td>\n",
       "      <td>Rheumatoid arthritis</td>\n",
       "      <td>9</td>\n",
       "      <td>physiotherapy</td>\n",
       "      <td>2617156</td>\n",
       "      <td>42</td>\n",
       "      <td>Med</td>\n",
       "      <td>4900.0</td>\n",
       "    </tr>\n",
       "    <tr>\n",
       "      <th>2</th>\n",
       "      <td>10381</td>\n",
       "      <td>07/15</td>\n",
       "      <td>2</td>\n",
       "      <td>1</td>\n",
       "      <td>NCR</td>\n",
       "      <td>500.0</td>\n",
       "      <td>B2C</td>\n",
       "      <td>None</td>\n",
       "      <td>Direct Organic</td>\n",
       "      <td>P</td>\n",
       "      <td>...</td>\n",
       "      <td>11/09/2015</td>\n",
       "      <td>Portea</td>\n",
       "      <td>10</td>\n",
       "      <td>frozen shoulder</td>\n",
       "      <td>8</td>\n",
       "      <td>physiotherapy</td>\n",
       "      <td>675822</td>\n",
       "      <td>67</td>\n",
       "      <td>High</td>\n",
       "      <td>12250.0</td>\n",
       "    </tr>\n",
       "    <tr>\n",
       "      <th>3</th>\n",
       "      <td>10381</td>\n",
       "      <td>08/15</td>\n",
       "      <td>2</td>\n",
       "      <td>20</td>\n",
       "      <td>NCR</td>\n",
       "      <td>9500.0</td>\n",
       "      <td>B2C</td>\n",
       "      <td>None</td>\n",
       "      <td>Direct Organic</td>\n",
       "      <td>P</td>\n",
       "      <td>...</td>\n",
       "      <td>11/09/2015</td>\n",
       "      <td>Portea</td>\n",
       "      <td>10</td>\n",
       "      <td>frozen shoulder</td>\n",
       "      <td>8</td>\n",
       "      <td>physiotherapy</td>\n",
       "      <td>675822</td>\n",
       "      <td>67</td>\n",
       "      <td>High</td>\n",
       "      <td>12250.0</td>\n",
       "    </tr>\n",
       "    <tr>\n",
       "      <th>4</th>\n",
       "      <td>10381</td>\n",
       "      <td>08/15</td>\n",
       "      <td>98</td>\n",
       "      <td>1</td>\n",
       "      <td>NCR</td>\n",
       "      <td>0.0</td>\n",
       "      <td>B2C</td>\n",
       "      <td>None</td>\n",
       "      <td>Direct Organic</td>\n",
       "      <td>P</td>\n",
       "      <td>...</td>\n",
       "      <td>11/09/2015</td>\n",
       "      <td>Portea</td>\n",
       "      <td>10</td>\n",
       "      <td>frozen shoulder</td>\n",
       "      <td>8</td>\n",
       "      <td>physiotherapy</td>\n",
       "      <td>675822</td>\n",
       "      <td>67</td>\n",
       "      <td>High</td>\n",
       "      <td>12250.0</td>\n",
       "    </tr>\n",
       "  </tbody>\n",
       "</table>\n",
       "<p>5 rows × 25 columns</p>\n",
       "</div>"
      ],
      "text/plain": [
       "   patient_id visit_month_year  service_id  visits_count     city  revenue  \\\n",
       "0       10020            04/15           2             1  Chennai    500.0   \n",
       "1       10293            04/17           2             7   Mumbai   4900.0   \n",
       "2       10381            07/15           2             1      NCR    500.0   \n",
       "3       10381            08/15           2            20      NCR   9500.0   \n",
       "4       10381            08/15          98             1      NCR      0.0   \n",
       "\n",
       "  ref_type  ref_name      ref_source service_name   ...            LVD  \\\n",
       "0      B2C      None  Direct Organic            P   ...     21/04/2015   \n",
       "1      B2C  Facebook   Digital + ATL            P   ...     25/04/2017   \n",
       "2      B2C      None  Direct Organic            P   ...     11/09/2015   \n",
       "3      B2C      None  Direct Organic            P   ...     11/09/2015   \n",
       "4      B2C      None  Direct Organic            P   ...     11/09/2015   \n",
       "\n",
       "    brand visits_required                                          diagnosis  \\\n",
       "0  Portea               1  Post Operative condition of Cardiac Valve repl...   \n",
       "1  Portea               8                               Rheumatoid arthritis   \n",
       "2  Portea              10                                    frozen shoulder   \n",
       "3  Portea              10                                    frozen shoulder   \n",
       "4  Portea              10                                    frozen shoulder   \n",
       "\n",
       "  avg_nps        Service  Appt_id  AGE Bucket  Revenue  \n",
       "0      \\N  physiotherapy   432155   62    Low    500.0  \n",
       "1       9  physiotherapy  2617156   42    Med   4900.0  \n",
       "2       8  physiotherapy   675822   67   High  12250.0  \n",
       "3       8  physiotherapy   675822   67   High  12250.0  \n",
       "4       8  physiotherapy   675822   67   High  12250.0  \n",
       "\n",
       "[5 rows x 25 columns]"
      ]
     },
     "execution_count": 30,
     "metadata": {},
     "output_type": "execute_result"
    }
   ],
   "source": [
    "train_data.head(5)"
   ]
  },
  {
   "cell_type": "code",
   "execution_count": 35,
   "metadata": {},
   "outputs": [
    {
     "data": {
      "text/html": [
       "<div>\n",
       "<style>\n",
       "    .dataframe thead tr:only-child th {\n",
       "        text-align: right;\n",
       "    }\n",
       "\n",
       "    .dataframe thead th {\n",
       "        text-align: left;\n",
       "    }\n",
       "\n",
       "    .dataframe tbody tr th {\n",
       "        vertical-align: top;\n",
       "    }\n",
       "</style>\n",
       "<table border=\"1\" class=\"dataframe\">\n",
       "  <thead>\n",
       "    <tr style=\"text-align: right;\">\n",
       "      <th></th>\n",
       "      <th>appt_id</th>\n",
       "      <th>pat_id</th>\n",
       "      <th>startDateTime</th>\n",
       "      <th>serviceId</th>\n",
       "      <th>name</th>\n",
       "      <th>status</th>\n",
       "      <th>cost</th>\n",
       "      <th>discount</th>\n",
       "      <th>patient_ivr_confirmation</th>\n",
       "      <th>appointment_delayed</th>\n",
       "    </tr>\n",
       "  </thead>\n",
       "  <tbody>\n",
       "    <tr>\n",
       "      <th>0</th>\n",
       "      <td>629</td>\n",
       "      <td>10020</td>\n",
       "      <td>2013-11-25 11:00:00</td>\n",
       "      <td>2</td>\n",
       "      <td>Physiotherapy</td>\n",
       "      <td>cancelled</td>\n",
       "      <td>0.0</td>\n",
       "      <td>0.0</td>\n",
       "      <td>\\N</td>\n",
       "      <td>0</td>\n",
       "    </tr>\n",
       "    <tr>\n",
       "      <th>1</th>\n",
       "      <td>2257</td>\n",
       "      <td>10293</td>\n",
       "      <td>2013-12-21 16:30:00</td>\n",
       "      <td>2</td>\n",
       "      <td>Physiotherapy</td>\n",
       "      <td>cancelled</td>\n",
       "      <td>600.0</td>\n",
       "      <td>50.0</td>\n",
       "      <td>\\N</td>\n",
       "      <td>0</td>\n",
       "    </tr>\n",
       "    <tr>\n",
       "      <th>2</th>\n",
       "      <td>2719</td>\n",
       "      <td>10381</td>\n",
       "      <td>2014-01-02 11:30:00</td>\n",
       "      <td>2</td>\n",
       "      <td>Physiotherapy</td>\n",
       "      <td>cancelled</td>\n",
       "      <td>550.0</td>\n",
       "      <td>0.0</td>\n",
       "      <td>\\N</td>\n",
       "      <td>0</td>\n",
       "    </tr>\n",
       "    <tr>\n",
       "      <th>3</th>\n",
       "      <td>2785</td>\n",
       "      <td>10388</td>\n",
       "      <td>2014-01-04 10:00:00</td>\n",
       "      <td>2</td>\n",
       "      <td>Physiotherapy</td>\n",
       "      <td>cancelled</td>\n",
       "      <td>0.0</td>\n",
       "      <td>0.0</td>\n",
       "      <td>\\N</td>\n",
       "      <td>0</td>\n",
       "    </tr>\n",
       "    <tr>\n",
       "      <th>4</th>\n",
       "      <td>2927</td>\n",
       "      <td>10381</td>\n",
       "      <td>2014-01-02 11:30:00</td>\n",
       "      <td>2</td>\n",
       "      <td>Physiotherapy</td>\n",
       "      <td>cancelled</td>\n",
       "      <td>550.0</td>\n",
       "      <td>0.0</td>\n",
       "      <td>\\N</td>\n",
       "      <td>0</td>\n",
       "    </tr>\n",
       "  </tbody>\n",
       "</table>\n",
       "</div>"
      ],
      "text/plain": [
       "   appt_id  pat_id        startDateTime  serviceId           name     status  \\\n",
       "0      629   10020  2013-11-25 11:00:00          2  Physiotherapy  cancelled   \n",
       "1     2257   10293  2013-12-21 16:30:00          2  Physiotherapy  cancelled   \n",
       "2     2719   10381  2014-01-02 11:30:00          2  Physiotherapy  cancelled   \n",
       "3     2785   10388  2014-01-04 10:00:00          2  Physiotherapy  cancelled   \n",
       "4     2927   10381  2014-01-02 11:30:00          2  Physiotherapy  cancelled   \n",
       "\n",
       "    cost  discount patient_ivr_confirmation  appointment_delayed  \n",
       "0    0.0       0.0                       \\N                    0  \n",
       "1  600.0      50.0                       \\N                    0  \n",
       "2  550.0       0.0                       \\N                    0  \n",
       "3    0.0       0.0                       \\N                    0  \n",
       "4  550.0       0.0                       \\N                    0  "
      ]
     },
     "execution_count": 35,
     "metadata": {},
     "output_type": "execute_result"
    }
   ],
   "source": [
    "appts_train.head(5)"
   ]
  },
  {
   "cell_type": "code",
   "execution_count": 37,
   "metadata": {},
   "outputs": [
    {
     "data": {
      "text/html": [
       "<div>\n",
       "<style>\n",
       "    .dataframe thead tr:only-child th {\n",
       "        text-align: right;\n",
       "    }\n",
       "\n",
       "    .dataframe thead th {\n",
       "        text-align: left;\n",
       "    }\n",
       "\n",
       "    .dataframe tbody tr th {\n",
       "        vertical-align: top;\n",
       "    }\n",
       "</style>\n",
       "<table border=\"1\" class=\"dataframe\">\n",
       "  <thead>\n",
       "    <tr style=\"text-align: right;\">\n",
       "      <th></th>\n",
       "      <th>patient_id</th>\n",
       "      <th>visit_month_year</th>\n",
       "      <th>service_id</th>\n",
       "      <th>city</th>\n",
       "      <th>ref_type</th>\n",
       "      <th>ref_name</th>\n",
       "      <th>ref_source</th>\n",
       "      <th>service_name</th>\n",
       "      <th>FVD</th>\n",
       "      <th>FVM</th>\n",
       "      <th>FVS</th>\n",
       "      <th>approx_age</th>\n",
       "      <th>gender</th>\n",
       "      <th>LVD</th>\n",
       "      <th>brand</th>\n",
       "      <th>visits_required</th>\n",
       "      <th>diagnosis</th>\n",
       "      <th>avg_nps</th>\n",
       "      <th>Unnamed: 18</th>\n",
       "      <th>Unnamed: 19</th>\n",
       "    </tr>\n",
       "  </thead>\n",
       "  <tbody>\n",
       "    <tr>\n",
       "      <th>0</th>\n",
       "      <td>122</td>\n",
       "      <td>01/14</td>\n",
       "      <td>2</td>\n",
       "      <td>Mumbai</td>\n",
       "      <td>B2C</td>\n",
       "      <td>None</td>\n",
       "      <td>Direct Organic</td>\n",
       "      <td>P</td>\n",
       "      <td>14/11/2013</td>\n",
       "      <td>11/13</td>\n",
       "      <td>P</td>\n",
       "      <td>3</td>\n",
       "      <td>male</td>\n",
       "      <td>11/03/2015</td>\n",
       "      <td>Portea</td>\n",
       "      <td>2</td>\n",
       "      <td>neonatal epilepsy</td>\n",
       "      <td>\\N</td>\n",
       "      <td>NaN</td>\n",
       "      <td>NaN</td>\n",
       "    </tr>\n",
       "    <tr>\n",
       "      <th>1</th>\n",
       "      <td>122</td>\n",
       "      <td>01/15</td>\n",
       "      <td>2</td>\n",
       "      <td>Mumbai</td>\n",
       "      <td>B2C</td>\n",
       "      <td>None</td>\n",
       "      <td>Direct Organic</td>\n",
       "      <td>P</td>\n",
       "      <td>14/11/2013</td>\n",
       "      <td>11/13</td>\n",
       "      <td>P</td>\n",
       "      <td>3</td>\n",
       "      <td>male</td>\n",
       "      <td>11/03/2015</td>\n",
       "      <td>Portea</td>\n",
       "      <td>2</td>\n",
       "      <td>neonatal epilepsy</td>\n",
       "      <td>\\N</td>\n",
       "      <td>NaN</td>\n",
       "      <td>NaN</td>\n",
       "    </tr>\n",
       "    <tr>\n",
       "      <th>2</th>\n",
       "      <td>122</td>\n",
       "      <td>11/13</td>\n",
       "      <td>2</td>\n",
       "      <td>Mumbai</td>\n",
       "      <td>B2C</td>\n",
       "      <td>None</td>\n",
       "      <td>Direct Organic</td>\n",
       "      <td>P</td>\n",
       "      <td>14/11/2013</td>\n",
       "      <td>11/13</td>\n",
       "      <td>P</td>\n",
       "      <td>3</td>\n",
       "      <td>male</td>\n",
       "      <td>11/03/2015</td>\n",
       "      <td>Portea</td>\n",
       "      <td>2</td>\n",
       "      <td>neonatal epilepsy</td>\n",
       "      <td>\\N</td>\n",
       "      <td>NaN</td>\n",
       "      <td>NaN</td>\n",
       "    </tr>\n",
       "  </tbody>\n",
       "</table>\n",
       "</div>"
      ],
      "text/plain": [
       "   patient_id visit_month_year  service_id    city ref_type ref_name  \\\n",
       "0         122            01/14           2  Mumbai      B2C     None   \n",
       "1         122            01/15           2  Mumbai      B2C     None   \n",
       "2         122            11/13           2  Mumbai      B2C     None   \n",
       "\n",
       "       ref_source service_name         FVD    FVM FVS approx_age gender  \\\n",
       "0  Direct Organic            P  14/11/2013  11/13   P          3   male   \n",
       "1  Direct Organic            P  14/11/2013  11/13   P          3   male   \n",
       "2  Direct Organic            P  14/11/2013  11/13   P          3   male   \n",
       "\n",
       "          LVD   brand  visits_required          diagnosis avg_nps Unnamed: 18  \\\n",
       "0  11/03/2015  Portea                2  neonatal epilepsy      \\N         NaN   \n",
       "1  11/03/2015  Portea                2  neonatal epilepsy      \\N         NaN   \n",
       "2  11/03/2015  Portea                2  neonatal epilepsy      \\N         NaN   \n",
       "\n",
       "  Unnamed: 19  \n",
       "0         NaN  \n",
       "1         NaN  \n",
       "2         NaN  "
      ]
     },
     "execution_count": 37,
     "metadata": {},
     "output_type": "execute_result"
    }
   ],
   "source": [
    "#train_data.groupby(['patient_id'])[['visits_count','revenue']].sum()\n",
    "revenue_test.head(3)"
   ]
  },
  {
   "cell_type": "code",
   "execution_count": 43,
   "metadata": {},
   "outputs": [
    {
     "data": {
      "text/plain": [
       "3457    07/01/2015\n",
       "Name: Unnamed: 7, dtype: object"
      ]
     },
     "execution_count": 43,
     "metadata": {},
     "output_type": "execute_result"
    }
   ],
   "source": [
    "df=diagnosis_test['Unnamed: 7']\n",
    "df.dropna()"
   ]
  },
  {
   "cell_type": "code",
   "execution_count": 38,
   "metadata": {},
   "outputs": [
    {
     "data": {
      "text/html": [
       "<div>\n",
       "<style>\n",
       "    .dataframe thead tr:only-child th {\n",
       "        text-align: right;\n",
       "    }\n",
       "\n",
       "    .dataframe thead th {\n",
       "        text-align: left;\n",
       "    }\n",
       "\n",
       "    .dataframe tbody tr th {\n",
       "        vertical-align: top;\n",
       "    }\n",
       "</style>\n",
       "<table border=\"1\" class=\"dataframe\">\n",
       "  <thead>\n",
       "    <tr style=\"text-align: right;\">\n",
       "      <th></th>\n",
       "      <th>patientId</th>\n",
       "      <th>diagnosis</th>\n",
       "      <th>Service</th>\n",
       "      <th>AGE</th>\n",
       "      <th>gender</th>\n",
       "      <th>LVD</th>\n",
       "      <th>Unnamed: 6</th>\n",
       "      <th>Unnamed: 7</th>\n",
       "    </tr>\n",
       "  </thead>\n",
       "  <tbody>\n",
       "    <tr>\n",
       "      <th>0</th>\n",
       "      <td>122</td>\n",
       "      <td>neonatal epilepsy</td>\n",
       "      <td>physiotherapy</td>\n",
       "      <td>3</td>\n",
       "      <td>male</td>\n",
       "      <td>11/03/2015</td>\n",
       "      <td>NaN</td>\n",
       "      <td>NaN</td>\n",
       "    </tr>\n",
       "    <tr>\n",
       "      <th>1</th>\n",
       "      <td>129</td>\n",
       "      <td>osteo-arthritis</td>\n",
       "      <td>physiotherapy</td>\n",
       "      <td>57</td>\n",
       "      <td>female</td>\n",
       "      <td>17/04/2015</td>\n",
       "      <td>NaN</td>\n",
       "      <td>NaN</td>\n",
       "    </tr>\n",
       "    <tr>\n",
       "      <th>2</th>\n",
       "      <td>10251</td>\n",
       "      <td>osteoarthritis bilateral knee left more then r...</td>\n",
       "      <td>physiotherapy</td>\n",
       "      <td>65</td>\n",
       "      <td>female</td>\n",
       "      <td>03/12/2014</td>\n",
       "      <td>NaN</td>\n",
       "      <td>NaN</td>\n",
       "    </tr>\n",
       "  </tbody>\n",
       "</table>\n",
       "</div>"
      ],
      "text/plain": [
       "   patientId                                          diagnosis  \\\n",
       "0        122                                  neonatal epilepsy   \n",
       "1        129                                    osteo-arthritis   \n",
       "2      10251  osteoarthritis bilateral knee left more then r...   \n",
       "\n",
       "         Service AGE  gender         LVD Unnamed: 6 Unnamed: 7  \n",
       "0  physiotherapy   3    male  11/03/2015        NaN        NaN  \n",
       "1  physiotherapy  57  female  17/04/2015        NaN        NaN  \n",
       "2  physiotherapy  65  female  03/12/2014        NaN        NaN  "
      ]
     },
     "execution_count": 38,
     "metadata": {},
     "output_type": "execute_result"
    }
   ],
   "source": [
    "diagnosis_test.head(3)"
   ]
  },
  {
   "cell_type": "code",
   "execution_count": 44,
   "metadata": {
    "collapsed": true
   },
   "outputs": [],
   "source": [
    "diagnosis_test.rename(columns={'patientId': 'patient_id'}, inplace=True)"
   ]
  },
  {
   "cell_type": "code",
   "execution_count": 54,
   "metadata": {},
   "outputs": [],
   "source": [
    "test_data=pd.merge(revenue_test,diagnosis_test,how='left',on='patient_id')"
   ]
  },
  {
   "cell_type": "code",
   "execution_count": 55,
   "metadata": {},
   "outputs": [
    {
     "data": {
      "text/html": [
       "<div>\n",
       "<style>\n",
       "    .dataframe thead tr:only-child th {\n",
       "        text-align: right;\n",
       "    }\n",
       "\n",
       "    .dataframe thead th {\n",
       "        text-align: left;\n",
       "    }\n",
       "\n",
       "    .dataframe tbody tr th {\n",
       "        vertical-align: top;\n",
       "    }\n",
       "</style>\n",
       "<table border=\"1\" class=\"dataframe\">\n",
       "  <thead>\n",
       "    <tr style=\"text-align: right;\">\n",
       "      <th></th>\n",
       "      <th>patient_id</th>\n",
       "      <th>visit_month_year</th>\n",
       "      <th>service_id</th>\n",
       "      <th>city</th>\n",
       "      <th>ref_type</th>\n",
       "      <th>ref_name</th>\n",
       "      <th>ref_source</th>\n",
       "      <th>service_name</th>\n",
       "      <th>FVD</th>\n",
       "      <th>FVM</th>\n",
       "      <th>...</th>\n",
       "      <th>avg_nps</th>\n",
       "      <th>Unnamed: 18</th>\n",
       "      <th>Unnamed: 19</th>\n",
       "      <th>diagnosis_y</th>\n",
       "      <th>Service</th>\n",
       "      <th>AGE</th>\n",
       "      <th>gender_y</th>\n",
       "      <th>LVD_y</th>\n",
       "      <th>Unnamed: 6</th>\n",
       "      <th>Unnamed: 7</th>\n",
       "    </tr>\n",
       "  </thead>\n",
       "  <tbody>\n",
       "    <tr>\n",
       "      <th>0</th>\n",
       "      <td>122</td>\n",
       "      <td>01/14</td>\n",
       "      <td>2</td>\n",
       "      <td>Mumbai</td>\n",
       "      <td>B2C</td>\n",
       "      <td>None</td>\n",
       "      <td>Direct Organic</td>\n",
       "      <td>P</td>\n",
       "      <td>14/11/2013</td>\n",
       "      <td>11/13</td>\n",
       "      <td>...</td>\n",
       "      <td>\\N</td>\n",
       "      <td>NaN</td>\n",
       "      <td>NaN</td>\n",
       "      <td>neonatal epilepsy</td>\n",
       "      <td>physiotherapy</td>\n",
       "      <td>3</td>\n",
       "      <td>male</td>\n",
       "      <td>11/03/2015</td>\n",
       "      <td>NaN</td>\n",
       "      <td>NaN</td>\n",
       "    </tr>\n",
       "    <tr>\n",
       "      <th>1</th>\n",
       "      <td>122</td>\n",
       "      <td>01/15</td>\n",
       "      <td>2</td>\n",
       "      <td>Mumbai</td>\n",
       "      <td>B2C</td>\n",
       "      <td>None</td>\n",
       "      <td>Direct Organic</td>\n",
       "      <td>P</td>\n",
       "      <td>14/11/2013</td>\n",
       "      <td>11/13</td>\n",
       "      <td>...</td>\n",
       "      <td>\\N</td>\n",
       "      <td>NaN</td>\n",
       "      <td>NaN</td>\n",
       "      <td>neonatal epilepsy</td>\n",
       "      <td>physiotherapy</td>\n",
       "      <td>3</td>\n",
       "      <td>male</td>\n",
       "      <td>11/03/2015</td>\n",
       "      <td>NaN</td>\n",
       "      <td>NaN</td>\n",
       "    </tr>\n",
       "    <tr>\n",
       "      <th>2</th>\n",
       "      <td>122</td>\n",
       "      <td>11/13</td>\n",
       "      <td>2</td>\n",
       "      <td>Mumbai</td>\n",
       "      <td>B2C</td>\n",
       "      <td>None</td>\n",
       "      <td>Direct Organic</td>\n",
       "      <td>P</td>\n",
       "      <td>14/11/2013</td>\n",
       "      <td>11/13</td>\n",
       "      <td>...</td>\n",
       "      <td>\\N</td>\n",
       "      <td>NaN</td>\n",
       "      <td>NaN</td>\n",
       "      <td>neonatal epilepsy</td>\n",
       "      <td>physiotherapy</td>\n",
       "      <td>3</td>\n",
       "      <td>male</td>\n",
       "      <td>11/03/2015</td>\n",
       "      <td>NaN</td>\n",
       "      <td>NaN</td>\n",
       "    </tr>\n",
       "  </tbody>\n",
       "</table>\n",
       "<p>3 rows × 27 columns</p>\n",
       "</div>"
      ],
      "text/plain": [
       "   patient_id visit_month_year  service_id    city ref_type ref_name  \\\n",
       "0         122            01/14           2  Mumbai      B2C     None   \n",
       "1         122            01/15           2  Mumbai      B2C     None   \n",
       "2         122            11/13           2  Mumbai      B2C     None   \n",
       "\n",
       "       ref_source service_name         FVD    FVM    ...     avg_nps  \\\n",
       "0  Direct Organic            P  14/11/2013  11/13    ...          \\N   \n",
       "1  Direct Organic            P  14/11/2013  11/13    ...          \\N   \n",
       "2  Direct Organic            P  14/11/2013  11/13    ...          \\N   \n",
       "\n",
       "  Unnamed: 18 Unnamed: 19        diagnosis_y        Service  AGE gender_y  \\\n",
       "0         NaN         NaN  neonatal epilepsy  physiotherapy    3     male   \n",
       "1         NaN         NaN  neonatal epilepsy  physiotherapy    3     male   \n",
       "2         NaN         NaN  neonatal epilepsy  physiotherapy    3     male   \n",
       "\n",
       "        LVD_y Unnamed: 6 Unnamed: 7  \n",
       "0  11/03/2015        NaN        NaN  \n",
       "1  11/03/2015        NaN        NaN  \n",
       "2  11/03/2015        NaN        NaN  \n",
       "\n",
       "[3 rows x 27 columns]"
      ]
     },
     "execution_count": 55,
     "metadata": {},
     "output_type": "execute_result"
    }
   ],
   "source": [
    "test_data.head(3)"
   ]
  },
  {
   "cell_type": "code",
   "execution_count": 56,
   "metadata": {
    "collapsed": true
   },
   "outputs": [],
   "source": [
    "test_data.drop(['Unnamed: 6','Unnamed: 7','Unnamed: 18','Unnamed: 19'],axis = 1, inplace=True)"
   ]
  },
  {
   "cell_type": "code",
   "execution_count": 57,
   "metadata": {},
   "outputs": [
    {
     "data": {
      "text/html": [
       "<div>\n",
       "<style>\n",
       "    .dataframe thead tr:only-child th {\n",
       "        text-align: right;\n",
       "    }\n",
       "\n",
       "    .dataframe thead th {\n",
       "        text-align: left;\n",
       "    }\n",
       "\n",
       "    .dataframe tbody tr th {\n",
       "        vertical-align: top;\n",
       "    }\n",
       "</style>\n",
       "<table border=\"1\" class=\"dataframe\">\n",
       "  <thead>\n",
       "    <tr style=\"text-align: right;\">\n",
       "      <th></th>\n",
       "      <th>patient_id</th>\n",
       "      <th>visit_month_year</th>\n",
       "      <th>service_id</th>\n",
       "      <th>city</th>\n",
       "      <th>ref_type</th>\n",
       "      <th>ref_name</th>\n",
       "      <th>ref_source</th>\n",
       "      <th>service_name</th>\n",
       "      <th>FVD</th>\n",
       "      <th>FVM</th>\n",
       "      <th>...</th>\n",
       "      <th>LVD_x</th>\n",
       "      <th>brand</th>\n",
       "      <th>visits_required</th>\n",
       "      <th>diagnosis_x</th>\n",
       "      <th>avg_nps</th>\n",
       "      <th>diagnosis_y</th>\n",
       "      <th>Service</th>\n",
       "      <th>AGE</th>\n",
       "      <th>gender_y</th>\n",
       "      <th>LVD_y</th>\n",
       "    </tr>\n",
       "  </thead>\n",
       "  <tbody>\n",
       "    <tr>\n",
       "      <th>0</th>\n",
       "      <td>122</td>\n",
       "      <td>01/14</td>\n",
       "      <td>2</td>\n",
       "      <td>Mumbai</td>\n",
       "      <td>B2C</td>\n",
       "      <td>None</td>\n",
       "      <td>Direct Organic</td>\n",
       "      <td>P</td>\n",
       "      <td>14/11/2013</td>\n",
       "      <td>11/13</td>\n",
       "      <td>...</td>\n",
       "      <td>11/03/2015</td>\n",
       "      <td>Portea</td>\n",
       "      <td>2</td>\n",
       "      <td>neonatal epilepsy</td>\n",
       "      <td>\\N</td>\n",
       "      <td>neonatal epilepsy</td>\n",
       "      <td>physiotherapy</td>\n",
       "      <td>3</td>\n",
       "      <td>male</td>\n",
       "      <td>11/03/2015</td>\n",
       "    </tr>\n",
       "    <tr>\n",
       "      <th>1</th>\n",
       "      <td>122</td>\n",
       "      <td>01/15</td>\n",
       "      <td>2</td>\n",
       "      <td>Mumbai</td>\n",
       "      <td>B2C</td>\n",
       "      <td>None</td>\n",
       "      <td>Direct Organic</td>\n",
       "      <td>P</td>\n",
       "      <td>14/11/2013</td>\n",
       "      <td>11/13</td>\n",
       "      <td>...</td>\n",
       "      <td>11/03/2015</td>\n",
       "      <td>Portea</td>\n",
       "      <td>2</td>\n",
       "      <td>neonatal epilepsy</td>\n",
       "      <td>\\N</td>\n",
       "      <td>neonatal epilepsy</td>\n",
       "      <td>physiotherapy</td>\n",
       "      <td>3</td>\n",
       "      <td>male</td>\n",
       "      <td>11/03/2015</td>\n",
       "    </tr>\n",
       "    <tr>\n",
       "      <th>2</th>\n",
       "      <td>122</td>\n",
       "      <td>11/13</td>\n",
       "      <td>2</td>\n",
       "      <td>Mumbai</td>\n",
       "      <td>B2C</td>\n",
       "      <td>None</td>\n",
       "      <td>Direct Organic</td>\n",
       "      <td>P</td>\n",
       "      <td>14/11/2013</td>\n",
       "      <td>11/13</td>\n",
       "      <td>...</td>\n",
       "      <td>11/03/2015</td>\n",
       "      <td>Portea</td>\n",
       "      <td>2</td>\n",
       "      <td>neonatal epilepsy</td>\n",
       "      <td>\\N</td>\n",
       "      <td>neonatal epilepsy</td>\n",
       "      <td>physiotherapy</td>\n",
       "      <td>3</td>\n",
       "      <td>male</td>\n",
       "      <td>11/03/2015</td>\n",
       "    </tr>\n",
       "  </tbody>\n",
       "</table>\n",
       "<p>3 rows × 23 columns</p>\n",
       "</div>"
      ],
      "text/plain": [
       "   patient_id visit_month_year  service_id    city ref_type ref_name  \\\n",
       "0         122            01/14           2  Mumbai      B2C     None   \n",
       "1         122            01/15           2  Mumbai      B2C     None   \n",
       "2         122            11/13           2  Mumbai      B2C     None   \n",
       "\n",
       "       ref_source service_name         FVD    FVM     ...           LVD_x  \\\n",
       "0  Direct Organic            P  14/11/2013  11/13     ...      11/03/2015   \n",
       "1  Direct Organic            P  14/11/2013  11/13     ...      11/03/2015   \n",
       "2  Direct Organic            P  14/11/2013  11/13     ...      11/03/2015   \n",
       "\n",
       "    brand visits_required        diagnosis_x avg_nps        diagnosis_y  \\\n",
       "0  Portea               2  neonatal epilepsy      \\N  neonatal epilepsy   \n",
       "1  Portea               2  neonatal epilepsy      \\N  neonatal epilepsy   \n",
       "2  Portea               2  neonatal epilepsy      \\N  neonatal epilepsy   \n",
       "\n",
       "         Service AGE gender_y       LVD_y  \n",
       "0  physiotherapy   3     male  11/03/2015  \n",
       "1  physiotherapy   3     male  11/03/2015  \n",
       "2  physiotherapy   3     male  11/03/2015  \n",
       "\n",
       "[3 rows x 23 columns]"
      ]
     },
     "execution_count": 57,
     "metadata": {},
     "output_type": "execute_result"
    }
   ],
   "source": [
    "test_data.head(3)"
   ]
  },
  {
   "cell_type": "code",
   "execution_count": 63,
   "metadata": {},
   "outputs": [
    {
     "data": {
      "text/plain": [
       "['patient_id',\n",
       " 'visit_month_year',\n",
       " 'service_id',\n",
       " 'city',\n",
       " 'revenue',\n",
       " 'ref_type',\n",
       " 'ref_name',\n",
       " 'ref_source',\n",
       " 'service_name',\n",
       " 'FVD',\n",
       " 'FVM',\n",
       " 'FVS',\n",
       " 'approx_age',\n",
       " 'gender',\n",
       " 'LVD',\n",
       " 'brand',\n",
       " 'visits_required',\n",
       " 'diagnosis',\n",
       " 'avg_nps',\n",
       " 'Service',\n",
       " 'AGE']"
      ]
     },
     "execution_count": 63,
     "metadata": {},
     "output_type": "execute_result"
    }
   ],
   "source": [
    "list(train_data)"
   ]
  },
  {
   "cell_type": "code",
   "execution_count": 58,
   "metadata": {},
   "outputs": [],
   "source": [
    "test_data.drop(['gender_y','diagnosis_y','LVD_y'],axis = 1, inplace=True)\n",
    "test_data.rename(columns={'gender_x': 'gender','diagnosis_x': 'diagnosis','LVD_x':'LVD'}, inplace=True)"
   ]
  },
  {
   "cell_type": "code",
   "execution_count": 64,
   "metadata": {},
   "outputs": [
    {
     "data": {
      "text/plain": [
       "['patient_id',\n",
       " 'visit_month_year',\n",
       " 'service_id',\n",
       " 'city',\n",
       " 'ref_type',\n",
       " 'ref_name',\n",
       " 'ref_source',\n",
       " 'service_name',\n",
       " 'FVD',\n",
       " 'FVM',\n",
       " 'FVS',\n",
       " 'approx_age',\n",
       " 'gender',\n",
       " 'LVD',\n",
       " 'brand',\n",
       " 'visits_required',\n",
       " 'diagnosis',\n",
       " 'avg_nps',\n",
       " 'Service',\n",
       " 'AGE']"
      ]
     },
     "execution_count": 64,
     "metadata": {},
     "output_type": "execute_result"
    }
   ],
   "source": [
    "list(test_data)#visits_count,Appt_id,Bucket,Revenue"
   ]
  },
  {
   "cell_type": "code",
   "execution_count": 60,
   "metadata": {
    "collapsed": true
   },
   "outputs": [],
   "source": [
    "y_train=train_data['Bucket']\n",
    "train_data.drop(['visits_count','Appt_id','Revenue','Bucket'],axis = 1, inplace=True)"
   ]
  },
  {
   "cell_type": "code",
   "execution_count": 65,
   "metadata": {
    "collapsed": true
   },
   "outputs": [],
   "source": [
    "train_data.drop(['revenue'],axis = 1, inplace=True)\n",
    "cols=list(train_data)"
   ]
  },
  {
   "cell_type": "code",
   "execution_count": 66,
   "metadata": {},
   "outputs": [
    {
     "data": {
      "text/plain": [
       "(83307, 20)"
      ]
     },
     "execution_count": 66,
     "metadata": {},
     "output_type": "execute_result"
    }
   ],
   "source": [
    "train_data.shape"
   ]
  },
  {
   "cell_type": "code",
   "execution_count": 67,
   "metadata": {},
   "outputs": [
    {
     "data": {
      "text/plain": [
       "(55329, 20)"
      ]
     },
     "execution_count": 67,
     "metadata": {},
     "output_type": "execute_result"
    }
   ],
   "source": [
    "test_data.shape"
   ]
  },
  {
   "cell_type": "code",
   "execution_count": 68,
   "metadata": {},
   "outputs": [
    {
     "data": {
      "text/plain": [
       "(83307,)"
      ]
     },
     "execution_count": 68,
     "metadata": {},
     "output_type": "execute_result"
    }
   ],
   "source": [
    "y_train.shape"
   ]
  },
  {
   "cell_type": "code",
   "execution_count": 72,
   "metadata": {},
   "outputs": [
    {
     "data": {
      "text/plain": [
       "03/16    3176\n",
       "02/16    3053\n",
       "04/17    2594\n",
       "03/17    2534\n",
       "05/17    2532\n",
       "12/15    2488\n",
       "07/17    2451\n",
       "08/17    2424\n",
       "01/16    2401\n",
       "06/17    2388\n",
       "04/16    2315\n",
       "11/15    2237\n",
       "05/16    2223\n",
       "09/15    2211\n",
       "01/17    2189\n",
       "09/17    2164\n",
       "06/16    2162\n",
       "12/16    2160\n",
       "02/17    2150\n",
       "10/15    2132\n",
       "10/17    2102\n",
       "08/15    2057\n",
       "07/15    2051\n",
       "11/17    2051\n",
       "08/16    2040\n",
       "10/16    2039\n",
       "07/16    2026\n",
       "09/16    1969\n",
       "11/16    1941\n",
       "06/15    1906\n",
       "05/15    1855\n",
       "04/15    1853\n",
       "03/15    1824\n",
       "02/15    1452\n",
       "01/15    1408\n",
       "12/14    1306\n",
       "11/14    1256\n",
       "10/14     932\n",
       "12/17     722\n",
       "09/14     704\n",
       "08/14     701\n",
       "07/14     492\n",
       "06/14     323\n",
       "05/14     220\n",
       "04/14      55\n",
       "03/14      25\n",
       "02/14       7\n",
       "01/14       6\n",
       "Name: visit_month_year, dtype: int64"
      ]
     },
     "execution_count": 72,
     "metadata": {},
     "output_type": "execute_result"
    }
   ],
   "source": [
    "train_data['visit_month_year'].value_counts()"
   ]
  },
  {
   "cell_type": "code",
   "execution_count": 73,
   "metadata": {
    "collapsed": true
   },
   "outputs": [],
   "source": [
    "train_data[\"visit_month_year\"] = train_data[\"visit_month_year\"].astype('category')"
   ]
  },
  {
   "cell_type": "code",
   "execution_count": 74,
   "metadata": {},
   "outputs": [
    {
     "data": {
      "text/plain": [
       "patient_id             int64\n",
       "visit_month_year    category\n",
       "service_id             int64\n",
       "city                  object\n",
       "ref_type              object\n",
       "ref_name              object\n",
       "ref_source            object\n",
       "service_name          object\n",
       "FVD                   object\n",
       "FVM                   object\n",
       "FVS                   object\n",
       "approx_age            object\n",
       "gender                object\n",
       "LVD                   object\n",
       "brand                 object\n",
       "visits_required        int64\n",
       "diagnosis             object\n",
       "avg_nps               object\n",
       "Service               object\n",
       "AGE                   object\n",
       "dtype: object"
      ]
     },
     "execution_count": 74,
     "metadata": {},
     "output_type": "execute_result"
    }
   ],
   "source": [
    "train_data.dtypes"
   ]
  },
  {
   "cell_type": "code",
   "execution_count": 75,
   "metadata": {
    "collapsed": true
   },
   "outputs": [],
   "source": [
    "train_data[\"visit_month_year_cat\"] = train_data[\"visit_month_year\"].cat.codes"
   ]
  },
  {
   "cell_type": "code",
   "execution_count": 76,
   "metadata": {},
   "outputs": [
    {
     "data": {
      "text/html": [
       "<div>\n",
       "<style>\n",
       "    .dataframe thead tr:only-child th {\n",
       "        text-align: right;\n",
       "    }\n",
       "\n",
       "    .dataframe thead th {\n",
       "        text-align: left;\n",
       "    }\n",
       "\n",
       "    .dataframe tbody tr th {\n",
       "        vertical-align: top;\n",
       "    }\n",
       "</style>\n",
       "<table border=\"1\" class=\"dataframe\">\n",
       "  <thead>\n",
       "    <tr style=\"text-align: right;\">\n",
       "      <th></th>\n",
       "      <th>visit_month_year_cat</th>\n",
       "      <th>visit_month_year</th>\n",
       "    </tr>\n",
       "  </thead>\n",
       "  <tbody>\n",
       "    <tr>\n",
       "      <th>0</th>\n",
       "      <td>13</td>\n",
       "      <td>04/15</td>\n",
       "    </tr>\n",
       "    <tr>\n",
       "      <th>1</th>\n",
       "      <td>15</td>\n",
       "      <td>04/17</td>\n",
       "    </tr>\n",
       "    <tr>\n",
       "      <th>2</th>\n",
       "      <td>25</td>\n",
       "      <td>07/15</td>\n",
       "    </tr>\n",
       "    <tr>\n",
       "      <th>3</th>\n",
       "      <td>29</td>\n",
       "      <td>08/15</td>\n",
       "    </tr>\n",
       "    <tr>\n",
       "      <th>4</th>\n",
       "      <td>29</td>\n",
       "      <td>08/15</td>\n",
       "    </tr>\n",
       "    <tr>\n",
       "      <th>5</th>\n",
       "      <td>33</td>\n",
       "      <td>09/15</td>\n",
       "    </tr>\n",
       "    <tr>\n",
       "      <th>6</th>\n",
       "      <td>0</td>\n",
       "      <td>01/14</td>\n",
       "    </tr>\n",
       "    <tr>\n",
       "      <th>7</th>\n",
       "      <td>2</td>\n",
       "      <td>01/16</td>\n",
       "    </tr>\n",
       "    <tr>\n",
       "      <th>8</th>\n",
       "      <td>2</td>\n",
       "      <td>01/16</td>\n",
       "    </tr>\n",
       "    <tr>\n",
       "      <th>9</th>\n",
       "      <td>37</td>\n",
       "      <td>10/15</td>\n",
       "    </tr>\n",
       "  </tbody>\n",
       "</table>\n",
       "</div>"
      ],
      "text/plain": [
       "   visit_month_year_cat visit_month_year\n",
       "0                    13            04/15\n",
       "1                    15            04/17\n",
       "2                    25            07/15\n",
       "3                    29            08/15\n",
       "4                    29            08/15\n",
       "5                    33            09/15\n",
       "6                     0            01/14\n",
       "7                     2            01/16\n",
       "8                     2            01/16\n",
       "9                    37            10/15"
      ]
     },
     "execution_count": 76,
     "metadata": {},
     "output_type": "execute_result"
    }
   ],
   "source": [
    "train_data[['visit_month_year_cat','visit_month_year']].head(10)"
   ]
  },
  {
   "cell_type": "code",
   "execution_count": 77,
   "metadata": {},
   "outputs": [
    {
     "data": {
      "text/html": [
       "<div>\n",
       "<style>\n",
       "    .dataframe thead tr:only-child th {\n",
       "        text-align: right;\n",
       "    }\n",
       "\n",
       "    .dataframe thead th {\n",
       "        text-align: left;\n",
       "    }\n",
       "\n",
       "    .dataframe tbody tr th {\n",
       "        vertical-align: top;\n",
       "    }\n",
       "</style>\n",
       "<table border=\"1\" class=\"dataframe\">\n",
       "  <thead>\n",
       "    <tr style=\"text-align: right;\">\n",
       "      <th></th>\n",
       "      <th>visit_month_year_cat</th>\n",
       "      <th>visit_month_year</th>\n",
       "    </tr>\n",
       "  </thead>\n",
       "  <tbody>\n",
       "    <tr>\n",
       "      <th>0</th>\n",
       "      <td>13</td>\n",
       "      <td>01/14</td>\n",
       "    </tr>\n",
       "    <tr>\n",
       "      <th>1</th>\n",
       "      <td>15</td>\n",
       "      <td>01/15</td>\n",
       "    </tr>\n",
       "    <tr>\n",
       "      <th>2</th>\n",
       "      <td>25</td>\n",
       "      <td>11/13</td>\n",
       "    </tr>\n",
       "    <tr>\n",
       "      <th>3</th>\n",
       "      <td>29</td>\n",
       "      <td>11/14</td>\n",
       "    </tr>\n",
       "    <tr>\n",
       "      <th>4</th>\n",
       "      <td>29</td>\n",
       "      <td>12/13</td>\n",
       "    </tr>\n",
       "    <tr>\n",
       "      <th>5</th>\n",
       "      <td>33</td>\n",
       "      <td>12/14</td>\n",
       "    </tr>\n",
       "    <tr>\n",
       "      <th>6</th>\n",
       "      <td>0</td>\n",
       "      <td>02/14</td>\n",
       "    </tr>\n",
       "    <tr>\n",
       "      <th>7</th>\n",
       "      <td>2</td>\n",
       "      <td>02/15</td>\n",
       "    </tr>\n",
       "    <tr>\n",
       "      <th>8</th>\n",
       "      <td>2</td>\n",
       "      <td>03/14</td>\n",
       "    </tr>\n",
       "    <tr>\n",
       "      <th>9</th>\n",
       "      <td>37</td>\n",
       "      <td>03/15</td>\n",
       "    </tr>\n",
       "  </tbody>\n",
       "</table>\n",
       "</div>"
      ],
      "text/plain": [
       "   visit_month_year_cat visit_month_year\n",
       "0                    13            01/14\n",
       "1                    15            01/15\n",
       "2                    25            11/13\n",
       "3                    29            11/14\n",
       "4                    29            12/13\n",
       "5                    33            12/14\n",
       "6                     0            02/14\n",
       "7                     2            02/15\n",
       "8                     2            03/14\n",
       "9                    37            03/15"
      ]
     },
     "execution_count": 77,
     "metadata": {},
     "output_type": "execute_result"
    }
   ],
   "source": [
    "test_data[\"visit_month_year\"] = test_data[\"visit_month_year\"].astype('category')\n",
    "test_data[\"visit_month_year_cat\"] = train_data[\"visit_month_year\"].cat.codes\n",
    "test_data[['visit_month_year_cat','visit_month_year']].head(10)"
   ]
  },
  {
   "cell_type": "code",
   "execution_count": 114,
   "metadata": {},
   "outputs": [
    {
     "data": {
      "text/plain": [
       "10      12057\n",
       "9        5517\n",
       "8        3018\n",
       "7        1252\n",
       "6         703\n",
       "5         472\n",
       "9.5       427\n",
       "8.5       227\n",
       "0         220\n",
       "4         171\n",
       "7.5       168\n",
       "3         144\n",
       "9.76      111\n",
       "9.67      111\n",
       "2         103\n",
       "9.33       98\n",
       "8.67       97\n",
       "8.33       81\n",
       "1          77\n",
       "5.75       60\n",
       "4.5        55\n",
       "6.67       55\n",
       "6.5        51\n",
       "7.67       42\n",
       "9.75       42\n",
       "5.5        36\n",
       "4.83       36\n",
       "5.33       31\n",
       "9.4        29\n",
       "4.33       24\n",
       "7.33       19\n",
       "9.25       18\n",
       "9.83       14\n",
       "8.75       13\n",
       "1.5        12\n",
       "7.4        11\n",
       "6.33       10\n",
       "4.6         9\n",
       "5.43        8\n",
       "7.75        8\n",
       "9.29        8\n",
       "3.5         7\n",
       "7.25        6\n",
       "9.86        5\n",
       "2.67        5\n",
       "1.33        5\n",
       "4.75        5\n",
       "9.2         4\n",
       "4.25        4\n",
       "3.67        4\n",
       "4.67        4\n",
       "8.25        4\n",
       "2.5         3\n",
       "8.6         2\n",
       "5.67        2\n",
       "3.4         2\n",
       "1.67        2\n",
       "Name: avg_nps, dtype: int64"
      ]
     },
     "execution_count": 114,
     "metadata": {},
     "output_type": "execute_result"
    }
   ],
   "source": [
    "test_data['avg_nps'].value_counts()"
   ]
  },
  {
   "cell_type": "code",
   "execution_count": 113,
   "metadata": {
    "collapsed": true
   },
   "outputs": [],
   "source": [
    "def is_number(s):\n",
    "    try:\n",
    "        float(s)\n",
    "        return True\n",
    "    except ValueError:\n",
    "        return False\n",
    "    \n",
    "test_data['avg_nps'] = test_data.apply(lambda row: row['avg_nps'] if is_number(row['avg_nps']) else None, axis=1)"
   ]
  },
  {
   "cell_type": "code",
   "execution_count": 115,
   "metadata": {
    "collapsed": true
   },
   "outputs": [],
   "source": [
    "test_data['avg_nps']=test_data['avg_nps'].astype('float')\n",
    "train_data['avg_nps'] = train_data.apply(lambda row: row['avg_nps'] if is_number(row['avg_nps']) else None, axis=1)\n",
    "train_data['avg_nps']=train_data['avg_nps'].astype('float')"
   ]
  },
  {
   "cell_type": "code",
   "execution_count": 131,
   "metadata": {},
   "outputs": [
    {
     "data": {
      "text/html": [
       "<div>\n",
       "<style>\n",
       "    .dataframe thead tr:only-child th {\n",
       "        text-align: right;\n",
       "    }\n",
       "\n",
       "    .dataframe thead th {\n",
       "        text-align: left;\n",
       "    }\n",
       "\n",
       "    .dataframe tbody tr th {\n",
       "        vertical-align: top;\n",
       "    }\n",
       "</style>\n",
       "<table border=\"1\" class=\"dataframe\">\n",
       "  <thead>\n",
       "    <tr style=\"text-align: right;\">\n",
       "      <th></th>\n",
       "      <th>patient_id</th>\n",
       "      <th>visit_month_year</th>\n",
       "      <th>service_id</th>\n",
       "      <th>city</th>\n",
       "      <th>ref_type</th>\n",
       "      <th>ref_name</th>\n",
       "      <th>ref_source</th>\n",
       "      <th>service_name</th>\n",
       "      <th>FVD</th>\n",
       "      <th>FVM</th>\n",
       "      <th>...</th>\n",
       "      <th>approx_age</th>\n",
       "      <th>gender</th>\n",
       "      <th>LVD</th>\n",
       "      <th>brand</th>\n",
       "      <th>visits_required</th>\n",
       "      <th>diagnosis</th>\n",
       "      <th>avg_nps</th>\n",
       "      <th>Service</th>\n",
       "      <th>AGE</th>\n",
       "      <th>visit_month_year_cat</th>\n",
       "    </tr>\n",
       "  </thead>\n",
       "  <tbody>\n",
       "    <tr>\n",
       "      <th>0</th>\n",
       "      <td>10020</td>\n",
       "      <td>04/15</td>\n",
       "      <td>2</td>\n",
       "      <td>Chennai</td>\n",
       "      <td>B2C</td>\n",
       "      <td>None</td>\n",
       "      <td>Direct Organic</td>\n",
       "      <td>P</td>\n",
       "      <td>21/04/2015</td>\n",
       "      <td>04/15</td>\n",
       "      <td>...</td>\n",
       "      <td>62.0</td>\n",
       "      <td>male</td>\n",
       "      <td>21/04/2015</td>\n",
       "      <td>Portea</td>\n",
       "      <td>1</td>\n",
       "      <td>Post Operative condition of Cardiac Valve repl...</td>\n",
       "      <td>NaN</td>\n",
       "      <td>physiotherapy</td>\n",
       "      <td>62.0</td>\n",
       "      <td>13</td>\n",
       "    </tr>\n",
       "    <tr>\n",
       "      <th>1</th>\n",
       "      <td>10293</td>\n",
       "      <td>04/17</td>\n",
       "      <td>2</td>\n",
       "      <td>Mumbai</td>\n",
       "      <td>B2C</td>\n",
       "      <td>Facebook</td>\n",
       "      <td>Digital + ATL</td>\n",
       "      <td>P</td>\n",
       "      <td>08/04/2017</td>\n",
       "      <td>04/17</td>\n",
       "      <td>...</td>\n",
       "      <td>42.0</td>\n",
       "      <td>female</td>\n",
       "      <td>25/04/2017</td>\n",
       "      <td>Portea</td>\n",
       "      <td>8</td>\n",
       "      <td>Rheumatoid arthritis</td>\n",
       "      <td>9.0</td>\n",
       "      <td>physiotherapy</td>\n",
       "      <td>42.0</td>\n",
       "      <td>15</td>\n",
       "    </tr>\n",
       "    <tr>\n",
       "      <th>2</th>\n",
       "      <td>10381</td>\n",
       "      <td>07/15</td>\n",
       "      <td>2</td>\n",
       "      <td>NCR</td>\n",
       "      <td>B2C</td>\n",
       "      <td>None</td>\n",
       "      <td>Direct Organic</td>\n",
       "      <td>P</td>\n",
       "      <td>31/07/2015</td>\n",
       "      <td>07/15</td>\n",
       "      <td>...</td>\n",
       "      <td>67.0</td>\n",
       "      <td>male</td>\n",
       "      <td>11/09/2015</td>\n",
       "      <td>Portea</td>\n",
       "      <td>10</td>\n",
       "      <td>frozen shoulder</td>\n",
       "      <td>8.0</td>\n",
       "      <td>physiotherapy</td>\n",
       "      <td>67.0</td>\n",
       "      <td>25</td>\n",
       "    </tr>\n",
       "    <tr>\n",
       "      <th>3</th>\n",
       "      <td>10381</td>\n",
       "      <td>08/15</td>\n",
       "      <td>2</td>\n",
       "      <td>NCR</td>\n",
       "      <td>B2C</td>\n",
       "      <td>None</td>\n",
       "      <td>Direct Organic</td>\n",
       "      <td>P</td>\n",
       "      <td>31/07/2015</td>\n",
       "      <td>07/15</td>\n",
       "      <td>...</td>\n",
       "      <td>67.0</td>\n",
       "      <td>male</td>\n",
       "      <td>11/09/2015</td>\n",
       "      <td>Portea</td>\n",
       "      <td>10</td>\n",
       "      <td>frozen shoulder</td>\n",
       "      <td>8.0</td>\n",
       "      <td>physiotherapy</td>\n",
       "      <td>67.0</td>\n",
       "      <td>29</td>\n",
       "    </tr>\n",
       "    <tr>\n",
       "      <th>4</th>\n",
       "      <td>10381</td>\n",
       "      <td>08/15</td>\n",
       "      <td>98</td>\n",
       "      <td>NCR</td>\n",
       "      <td>B2C</td>\n",
       "      <td>None</td>\n",
       "      <td>Direct Organic</td>\n",
       "      <td>P</td>\n",
       "      <td>31/07/2015</td>\n",
       "      <td>07/15</td>\n",
       "      <td>...</td>\n",
       "      <td>67.0</td>\n",
       "      <td>male</td>\n",
       "      <td>11/09/2015</td>\n",
       "      <td>Portea</td>\n",
       "      <td>10</td>\n",
       "      <td>frozen shoulder</td>\n",
       "      <td>8.0</td>\n",
       "      <td>physiotherapy</td>\n",
       "      <td>67.0</td>\n",
       "      <td>29</td>\n",
       "    </tr>\n",
       "  </tbody>\n",
       "</table>\n",
       "<p>5 rows × 21 columns</p>\n",
       "</div>"
      ],
      "text/plain": [
       "   patient_id visit_month_year  service_id     city ref_type  ref_name  \\\n",
       "0       10020            04/15           2  Chennai      B2C      None   \n",
       "1       10293            04/17           2   Mumbai      B2C  Facebook   \n",
       "2       10381            07/15           2      NCR      B2C      None   \n",
       "3       10381            08/15           2      NCR      B2C      None   \n",
       "4       10381            08/15          98      NCR      B2C      None   \n",
       "\n",
       "       ref_source service_name         FVD    FVM          ...           \\\n",
       "0  Direct Organic            P  21/04/2015  04/15          ...            \n",
       "1   Digital + ATL            P  08/04/2017  04/17          ...            \n",
       "2  Direct Organic            P  31/07/2015  07/15          ...            \n",
       "3  Direct Organic            P  31/07/2015  07/15          ...            \n",
       "4  Direct Organic            P  31/07/2015  07/15          ...            \n",
       "\n",
       "  approx_age  gender         LVD   brand visits_required  \\\n",
       "0       62.0    male  21/04/2015  Portea               1   \n",
       "1       42.0  female  25/04/2017  Portea               8   \n",
       "2       67.0    male  11/09/2015  Portea              10   \n",
       "3       67.0    male  11/09/2015  Portea              10   \n",
       "4       67.0    male  11/09/2015  Portea              10   \n",
       "\n",
       "                                           diagnosis avg_nps        Service  \\\n",
       "0  Post Operative condition of Cardiac Valve repl...     NaN  physiotherapy   \n",
       "1                               Rheumatoid arthritis     9.0  physiotherapy   \n",
       "2                                    frozen shoulder     8.0  physiotherapy   \n",
       "3                                    frozen shoulder     8.0  physiotherapy   \n",
       "4                                    frozen shoulder     8.0  physiotherapy   \n",
       "\n",
       "    AGE  visit_month_year_cat  \n",
       "0  62.0                    13  \n",
       "1  42.0                    15  \n",
       "2  67.0                    25  \n",
       "3  67.0                    29  \n",
       "4  67.0                    29  \n",
       "\n",
       "[5 rows x 21 columns]"
      ]
     },
     "execution_count": 131,
     "metadata": {},
     "output_type": "execute_result"
    }
   ],
   "source": [
    "train_data.head()"
   ]
  },
  {
   "cell_type": "code",
   "execution_count": 125,
   "metadata": {},
   "outputs": [],
   "source": [
    "train_data['approx_age'] = train_data.apply(lambda row: row['approx_age'] if is_number(row['approx_age']) else None, axis=1)\n",
    "train_data['approx_age'] = train_data['approx_age'].astype('float')\n",
    "test_data['approx_age'] = test_data.apply(lambda row: row['approx_age'] if is_number(row['approx_age']) else None, axis=1)\n",
    "test_data['approx_age'] = test_data['approx_age'].astype('float')"
   ]
  },
  {
   "cell_type": "code",
   "execution_count": 128,
   "metadata": {
    "collapsed": true
   },
   "outputs": [],
   "source": [
    "train_data['AGE'] = train_data.apply(lambda row: row['AGE'] if is_number(row['AGE']) else None, axis=1)\n",
    "train_data['AGE'] = train_data['AGE'].astype('float')\n",
    "test_data['AGE'] = test_data.apply(lambda row: row['AGE'] if is_number(row['AGE']) else None, axis=1)\n",
    "test_data['AGE'] = test_data['AGE'].astype('float')"
   ]
  },
  {
   "cell_type": "code",
   "execution_count": 135,
   "metadata": {},
   "outputs": [],
   "source": [
    "test_data['AGE']=test_data['AGE'].fillna(method='pad')"
   ]
  },
  {
   "cell_type": "code",
   "execution_count": 137,
   "metadata": {},
   "outputs": [],
   "source": [
    "train_data['AGE']=train_data['AGE'].fillna(method='pad')\n",
    "train_data['approx_age'] = train_data['approx_age'].fillna(method='pad')\n",
    "test_data['approx_age'] = test_data['approx_age'].fillna(method='pad')\n",
    "test_data['avg_nps'] = test_data['avg_nps'].fillna(method='pad')\n",
    "train_data['avg_nps'] = train_data['avg_nps'].fillna(method='pad')\n",
    "test_data['AGE']=test_data['AGE'].fillna(method='bfill')\n",
    "train_data['AGE']=train_data['AGE'].fillna(method='bfill')\n",
    "train_data['approx_age'] = train_data['approx_age'].fillna(method='bfill')\n",
    "test_data['approx_age'] = test_data['approx_age'].fillna(method='bfill')\n",
    "test_data['avg_nps'] = test_data['avg_nps'].fillna(method='bfill')\n",
    "train_data['avg_nps'] = train_data['avg_nps'].fillna(method='bfill')"
   ]
  },
  {
   "cell_type": "code",
   "execution_count": 143,
   "metadata": {},
   "outputs": [
    {
     "name": "stdout",
     "output_type": "stream",
     "text": [
      "<class 'pandas.core.frame.DataFrame'>\n",
      "Int64Index: 83307 entries, 0 to 83306\n",
      "Data columns (total 21 columns):\n",
      "patient_id              83307 non-null int64\n",
      "visit_month_year        83307 non-null object\n",
      "service_id              83307 non-null int64\n",
      "city                    83307 non-null object\n",
      "ref_type                83307 non-null object\n",
      "ref_name                83307 non-null object\n",
      "ref_source              83307 non-null object\n",
      "service_name            82084 non-null object\n",
      "FVD                     83307 non-null object\n",
      "FVM                     83307 non-null object\n",
      "FVS                     83307 non-null object\n",
      "approx_age              83307 non-null float64\n",
      "gender                  83274 non-null object\n",
      "LVD                     83307 non-null object\n",
      "brand                   83307 non-null object\n",
      "visits_required         83307 non-null int64\n",
      "diagnosis               81574 non-null object\n",
      "avg_nps                 83306 non-null float64\n",
      "Service                 83307 non-null object\n",
      "AGE                     83307 non-null float64\n",
      "visit_month_year_cat    83307 non-null int8\n",
      "dtypes: float64(3), int64(3), int8(1), object(14)\n",
      "memory usage: 15.9+ MB\n"
     ]
    }
   ],
   "source": [
    "train_data['visit_month_year']=train_data['visit_month_year'].astype('object')\n",
    "test_data['visit_month_year']=test_data['visit_month_year'].astype('object')\n",
    "train_data.info()"
   ]
  },
  {
   "cell_type": "code",
   "execution_count": 139,
   "metadata": {
    "scrolled": false
   },
   "outputs": [
    {
     "data": {
      "text/plain": [
       "['patient_id',\n",
       " 'visit_month_year',\n",
       " 'service_id',\n",
       " 'city',\n",
       " 'ref_type',\n",
       " 'ref_name',\n",
       " 'ref_source',\n",
       " 'service_name',\n",
       " 'FVD',\n",
       " 'FVM',\n",
       " 'FVS',\n",
       " 'approx_age',\n",
       " 'gender',\n",
       " 'LVD',\n",
       " 'brand',\n",
       " 'visits_required',\n",
       " 'diagnosis',\n",
       " 'avg_nps',\n",
       " 'Service',\n",
       " 'AGE',\n",
       " 'visit_month_year_cat']"
      ]
     },
     "execution_count": 139,
     "metadata": {},
     "output_type": "execute_result"
    }
   ],
   "source": [
    "list(train_data)"
   ]
  },
  {
   "cell_type": "code",
   "execution_count": 144,
   "metadata": {},
   "outputs": [
    {
     "name": "stderr",
     "output_type": "stream",
     "text": [
      "/Users/admin/softs/anaconda/lib/python2.7/site-packages/numpy/lib/arraysetops.py:216: FutureWarning: numpy not_equal will not check object identity in the future. The comparison did not return the same result as suggested by the identity (`is`)) and will change.\n",
      "  flag = np.concatenate(([True], aux[1:] != aux[:-1]))\n",
      "/Users/admin/softs/anaconda/lib/python2.7/site-packages/numpy/lib/arraysetops.py:275: FutureWarning: numpy equal will not check object identity in the future. The comparison did not return the same result as suggested by the identity (`is`)) and will change.\n",
      "  return aux[:-1][aux[1:] == aux[:-1]]\n"
     ]
    }
   ],
   "source": [
    "from sklearn import preprocessing\n",
    "\n",
    "le = preprocessing.LabelEncoder()\n",
    "\n",
    "for col in test_data.columns.values:\n",
    "    if test_data[col].dtypes=='object':\n",
    "        data=test_data[col].append(train_data[col])\n",
    "        le.fit(data.values)\n",
    "        train_data[col]=le.transform(train_data[col])\n",
    "        test_data[col]=le.transform(test_data[col])"
   ]
  },
  {
   "cell_type": "code",
   "execution_count": 149,
   "metadata": {},
   "outputs": [
    {
     "data": {
      "text/html": [
       "<div>\n",
       "<style>\n",
       "    .dataframe thead tr:only-child th {\n",
       "        text-align: right;\n",
       "    }\n",
       "\n",
       "    .dataframe thead th {\n",
       "        text-align: left;\n",
       "    }\n",
       "\n",
       "    .dataframe tbody tr th {\n",
       "        vertical-align: top;\n",
       "    }\n",
       "</style>\n",
       "<table border=\"1\" class=\"dataframe\">\n",
       "  <thead>\n",
       "    <tr style=\"text-align: right;\">\n",
       "      <th></th>\n",
       "      <th>patient_id</th>\n",
       "      <th>visit_month_year</th>\n",
       "      <th>service_id</th>\n",
       "      <th>city</th>\n",
       "      <th>ref_type</th>\n",
       "      <th>ref_name</th>\n",
       "      <th>ref_source</th>\n",
       "      <th>service_name</th>\n",
       "      <th>FVD</th>\n",
       "      <th>FVM</th>\n",
       "      <th>...</th>\n",
       "      <th>approx_age</th>\n",
       "      <th>gender</th>\n",
       "      <th>LVD</th>\n",
       "      <th>brand</th>\n",
       "      <th>visits_required</th>\n",
       "      <th>diagnosis</th>\n",
       "      <th>avg_nps</th>\n",
       "      <th>Service</th>\n",
       "      <th>AGE</th>\n",
       "      <th>visit_month_year_cat</th>\n",
       "    </tr>\n",
       "  </thead>\n",
       "  <tbody>\n",
       "    <tr>\n",
       "      <th>0</th>\n",
       "      <td>10020</td>\n",
       "      <td>13</td>\n",
       "      <td>2</td>\n",
       "      <td>6</td>\n",
       "      <td>1</td>\n",
       "      <td>250</td>\n",
       "      <td>5</td>\n",
       "      <td>8</td>\n",
       "      <td>917</td>\n",
       "      <td>13</td>\n",
       "      <td>...</td>\n",
       "      <td>62.0</td>\n",
       "      <td>2</td>\n",
       "      <td>911</td>\n",
       "      <td>11</td>\n",
       "      <td>1</td>\n",
       "      <td>10631</td>\n",
       "      <td>9.0</td>\n",
       "      <td>28</td>\n",
       "      <td>62.0</td>\n",
       "      <td>13</td>\n",
       "    </tr>\n",
       "    <tr>\n",
       "      <th>1</th>\n",
       "      <td>10293</td>\n",
       "      <td>15</td>\n",
       "      <td>2</td>\n",
       "      <td>20</td>\n",
       "      <td>1</td>\n",
       "      <td>129</td>\n",
       "      <td>4</td>\n",
       "      <td>8</td>\n",
       "      <td>325</td>\n",
       "      <td>15</td>\n",
       "      <td>...</td>\n",
       "      <td>42.0</td>\n",
       "      <td>1</td>\n",
       "      <td>1093</td>\n",
       "      <td>11</td>\n",
       "      <td>8</td>\n",
       "      <td>11823</td>\n",
       "      <td>9.0</td>\n",
       "      <td>28</td>\n",
       "      <td>42.0</td>\n",
       "      <td>15</td>\n",
       "    </tr>\n",
       "    <tr>\n",
       "      <th>2</th>\n",
       "      <td>10381</td>\n",
       "      <td>25</td>\n",
       "      <td>2</td>\n",
       "      <td>21</td>\n",
       "      <td>1</td>\n",
       "      <td>250</td>\n",
       "      <td>5</td>\n",
       "      <td>8</td>\n",
       "      <td>1365</td>\n",
       "      <td>25</td>\n",
       "      <td>...</td>\n",
       "      <td>67.0</td>\n",
       "      <td>2</td>\n",
       "      <td>479</td>\n",
       "      <td>11</td>\n",
       "      <td>10</td>\n",
       "      <td>17576</td>\n",
       "      <td>8.0</td>\n",
       "      <td>28</td>\n",
       "      <td>67.0</td>\n",
       "      <td>25</td>\n",
       "    </tr>\n",
       "    <tr>\n",
       "      <th>3</th>\n",
       "      <td>10381</td>\n",
       "      <td>29</td>\n",
       "      <td>2</td>\n",
       "      <td>21</td>\n",
       "      <td>1</td>\n",
       "      <td>250</td>\n",
       "      <td>5</td>\n",
       "      <td>8</td>\n",
       "      <td>1365</td>\n",
       "      <td>25</td>\n",
       "      <td>...</td>\n",
       "      <td>67.0</td>\n",
       "      <td>2</td>\n",
       "      <td>479</td>\n",
       "      <td>11</td>\n",
       "      <td>10</td>\n",
       "      <td>17576</td>\n",
       "      <td>8.0</td>\n",
       "      <td>28</td>\n",
       "      <td>67.0</td>\n",
       "      <td>29</td>\n",
       "    </tr>\n",
       "    <tr>\n",
       "      <th>4</th>\n",
       "      <td>10381</td>\n",
       "      <td>29</td>\n",
       "      <td>98</td>\n",
       "      <td>21</td>\n",
       "      <td>1</td>\n",
       "      <td>250</td>\n",
       "      <td>5</td>\n",
       "      <td>8</td>\n",
       "      <td>1365</td>\n",
       "      <td>25</td>\n",
       "      <td>...</td>\n",
       "      <td>67.0</td>\n",
       "      <td>2</td>\n",
       "      <td>479</td>\n",
       "      <td>11</td>\n",
       "      <td>10</td>\n",
       "      <td>17576</td>\n",
       "      <td>8.0</td>\n",
       "      <td>28</td>\n",
       "      <td>67.0</td>\n",
       "      <td>29</td>\n",
       "    </tr>\n",
       "  </tbody>\n",
       "</table>\n",
       "<p>5 rows × 21 columns</p>\n",
       "</div>"
      ],
      "text/plain": [
       "   patient_id  visit_month_year  service_id  city  ref_type  ref_name  \\\n",
       "0       10020                13           2     6         1       250   \n",
       "1       10293                15           2    20         1       129   \n",
       "2       10381                25           2    21         1       250   \n",
       "3       10381                29           2    21         1       250   \n",
       "4       10381                29          98    21         1       250   \n",
       "\n",
       "   ref_source  service_name   FVD  FVM          ...           approx_age  \\\n",
       "0           5             8   917   13          ...                 62.0   \n",
       "1           4             8   325   15          ...                 42.0   \n",
       "2           5             8  1365   25          ...                 67.0   \n",
       "3           5             8  1365   25          ...                 67.0   \n",
       "4           5             8  1365   25          ...                 67.0   \n",
       "\n",
       "   gender   LVD  brand  visits_required  diagnosis  avg_nps  Service   AGE  \\\n",
       "0       2   911     11                1      10631      9.0       28  62.0   \n",
       "1       1  1093     11                8      11823      9.0       28  42.0   \n",
       "2       2   479     11               10      17576      8.0       28  67.0   \n",
       "3       2   479     11               10      17576      8.0       28  67.0   \n",
       "4       2   479     11               10      17576      8.0       28  67.0   \n",
       "\n",
       "   visit_month_year_cat  \n",
       "0                    13  \n",
       "1                    15  \n",
       "2                    25  \n",
       "3                    29  \n",
       "4                    29  \n",
       "\n",
       "[5 rows x 21 columns]"
      ]
     },
     "execution_count": 149,
     "metadata": {},
     "output_type": "execute_result"
    }
   ],
   "source": [
    "train_data.head()"
   ]
  },
  {
   "cell_type": "code",
   "execution_count": 158,
   "metadata": {
    "collapsed": true
   },
   "outputs": [],
   "source": [
    "train_data.drop(['patient_id'],axis = 1, inplace=True)"
   ]
  },
  {
   "cell_type": "code",
   "execution_count": 159,
   "metadata": {},
   "outputs": [],
   "source": [
    "patient_id_test=test_data['patient_id']\n",
    "test_data.drop(['patient_id'],axis = 1, inplace=True)"
   ]
  },
  {
   "cell_type": "code",
   "execution_count": 160,
   "metadata": {},
   "outputs": [],
   "source": [
    "from sklearn.model_selection import train_test_split\n",
    "train_x, test_x, train_y, test_y =train_test_split(train_data, y_train, test_size=0.2, random_state=12)"
   ]
  },
  {
   "cell_type": "code",
   "execution_count": 154,
   "metadata": {
    "collapsed": true
   },
   "outputs": [],
   "source": [
    "import xgboost as xgb\n",
    "from sklearn.ensemble import RandomForestClassifier\n",
    "from sklearn.metrics import accuracy_score\n",
    "from sklearn.metrics import confusion_matrix\n",
    "\n",
    "\n",
    "def random_forest(train_x,train_y,test_x,test_y):\n",
    "    clf = RandomForestClassifier()\n",
    "    clf.fit(train_x, train_y)\n",
    "    prediction=clf.predict(test_x)\n",
    "    print accuracy_score(test_y,prediction)\n",
    "    return clf"
   ]
  },
  {
   "cell_type": "code",
   "execution_count": 155,
   "metadata": {
    "collapsed": true
   },
   "outputs": [],
   "source": [
    "def xgboost(train_x, train_y, test_x, test_y):\n",
    "    clf=xgb.XGBClassifier(max_depth=5, n_estimators=300, learning_rate=0.03)\n",
    "    clf.fit(train_x, train_y)\n",
    "    prediction = clf.predict(test_x)\n",
    "    print accuracy_score(test_y,prediction)\n",
    "    return clf"
   ]
  },
  {
   "cell_type": "code",
   "execution_count": 165,
   "metadata": {},
   "outputs": [
    {
     "name": "stdout",
     "output_type": "stream",
     "text": [
      "0.996699075741\n"
     ]
    }
   ],
   "source": [
    "rf_clf=random_forest(train_data,y_train,test_x,test_y)"
   ]
  },
  {
   "cell_type": "code",
   "execution_count": 166,
   "metadata": {
    "collapsed": true
   },
   "outputs": [],
   "source": [
    "res=rf_clf.predict(test_data)"
   ]
  },
  {
   "cell_type": "code",
   "execution_count": 202,
   "metadata": {},
   "outputs": [],
   "source": [
    "sub = pd.DataFrame({ 'PID': patient_id_test,'Bucket': res })"
   ]
  },
  {
   "cell_type": "code",
   "execution_count": 203,
   "metadata": {},
   "outputs": [
    {
     "data": {
      "text/plain": [
       "Med         20845\n",
       "Low         18173\n",
       "High        14141\n",
       "High-Med     2170\n",
       "Name: Bucket, dtype: int64"
      ]
     },
     "execution_count": 203,
     "metadata": {},
     "output_type": "execute_result"
    }
   ],
   "source": [
    "sub['Bucket'].value_counts()"
   ]
  },
  {
   "cell_type": "code",
   "execution_count": 210,
   "metadata": {},
   "outputs": [],
   "source": [
    "grouped = sub.groupby('PID')\n",
    "p_id=[]\n",
    "bucket=[]\n",
    "for name, group in grouped:\n",
    "   # print(name)\n",
    "    low=0\n",
    "    mid=0\n",
    "    high=0\n",
    "    high_med=0\n",
    "    for val in group['Bucket']:\n",
    "        if str(val)==\"Low\":\n",
    "            low=low+1\n",
    "        elif str(val)==\"Med\":\n",
    "            mid=mid+1\n",
    "        elif str(val)==\"High\":\n",
    "            high=high+1\n",
    "        else:\n",
    "            high_med=high_med+1\n",
    "    \n",
    "    p_id.append(name) \n",
    "    \n",
    "    if high>=low and high>=mid and high>=low:\n",
    "        bucket.append(\"High\")\n",
    "    elif high_med>=low and high_med>=mid and high_med>=high:\n",
    "        bucket.append(\"High-Med\")\n",
    "    elif mid>=low and mid>=high_med and mid>=high:\n",
    "        bucket.append(\"Med\")\n",
    "    else:\n",
    "        bucket.append(\"Low\")"
   ]
  },
  {
   "cell_type": "code",
   "execution_count": 211,
   "metadata": {},
   "outputs": [
    {
     "data": {
      "text/plain": [
       "(32455, 2)"
      ]
     },
     "execution_count": 211,
     "metadata": {},
     "output_type": "execute_result"
    }
   ],
   "source": [
    "subm = pd.DataFrame({ 'PID': p_id,'Bucket': bucket })\n",
    "subm.shape"
   ]
  },
  {
   "cell_type": "code",
   "execution_count": 188,
   "metadata": {},
   "outputs": [],
   "source": [
    "#submission.drop(['Bucket'],axis = 1, inplace=True)"
   ]
  },
  {
   "cell_type": "code",
   "execution_count": 212,
   "metadata": {
    "collapsed": true
   },
   "outputs": [],
   "source": [
    "final=pd.merge(submission,subm,how='left',on='PID')"
   ]
  },
  {
   "cell_type": "code",
   "execution_count": 213,
   "metadata": {},
   "outputs": [
    {
     "data": {
      "text/html": [
       "<div>\n",
       "<style>\n",
       "    .dataframe thead tr:only-child th {\n",
       "        text-align: right;\n",
       "    }\n",
       "\n",
       "    .dataframe thead th {\n",
       "        text-align: left;\n",
       "    }\n",
       "\n",
       "    .dataframe tbody tr th {\n",
       "        vertical-align: top;\n",
       "    }\n",
       "</style>\n",
       "<table border=\"1\" class=\"dataframe\">\n",
       "  <thead>\n",
       "    <tr style=\"text-align: right;\">\n",
       "      <th></th>\n",
       "      <th>PID</th>\n",
       "      <th>Bucket</th>\n",
       "    </tr>\n",
       "  </thead>\n",
       "  <tbody>\n",
       "    <tr>\n",
       "      <th>0</th>\n",
       "      <td>111331</td>\n",
       "      <td>Low</td>\n",
       "    </tr>\n",
       "    <tr>\n",
       "      <th>1</th>\n",
       "      <td>27477</td>\n",
       "      <td>Low</td>\n",
       "    </tr>\n",
       "    <tr>\n",
       "      <th>2</th>\n",
       "      <td>439072</td>\n",
       "      <td>Low</td>\n",
       "    </tr>\n",
       "    <tr>\n",
       "      <th>3</th>\n",
       "      <td>346329</td>\n",
       "      <td>Low</td>\n",
       "    </tr>\n",
       "    <tr>\n",
       "      <th>4</th>\n",
       "      <td>58664</td>\n",
       "      <td>Low</td>\n",
       "    </tr>\n",
       "  </tbody>\n",
       "</table>\n",
       "</div>"
      ],
      "text/plain": [
       "      PID Bucket\n",
       "0  111331    Low\n",
       "1   27477    Low\n",
       "2  439072    Low\n",
       "3  346329    Low\n",
       "4   58664    Low"
      ]
     },
     "execution_count": 213,
     "metadata": {},
     "output_type": "execute_result"
    }
   ],
   "source": [
    "final.head()"
   ]
  },
  {
   "cell_type": "code",
   "execution_count": 214,
   "metadata": {
    "collapsed": true
   },
   "outputs": [],
   "source": [
    "final[['PID','Bucket']].to_csv('sub.csv', index=False)"
   ]
  },
  {
   "cell_type": "code",
   "execution_count": 200,
   "metadata": {},
   "outputs": [
    {
     "name": "stdout",
     "output_type": "stream",
     "text": [
      "0.668467170808\n"
     ]
    }
   ],
   "source": [
    "xg_clf=xgboost(train_data,y_train,test_x,test_y)"
   ]
  },
  {
   "cell_type": "code",
   "execution_count": 201,
   "metadata": {
    "collapsed": true
   },
   "outputs": [],
   "source": [
    "res=xg_clf.predict(test_data)"
   ]
  },
  {
   "cell_type": "code",
   "execution_count": 163,
   "metadata": {},
   "outputs": [
    {
     "data": {
      "text/plain": [
       "(32455, 2)"
      ]
     },
     "execution_count": 163,
     "metadata": {},
     "output_type": "execute_result"
    }
   ],
   "source": [
    "submission.shape"
   ]
  },
  {
   "cell_type": "code",
   "execution_count": 164,
   "metadata": {},
   "outputs": [
    {
     "data": {
      "text/plain": [
       "(55329, 20)"
      ]
     },
     "execution_count": 164,
     "metadata": {},
     "output_type": "execute_result"
    }
   ],
   "source": [
    "test_data.shape"
   ]
  },
  {
   "cell_type": "code",
   "execution_count": 151,
   "metadata": {},
   "outputs": [
    {
     "name": "stdout",
     "output_type": "stream",
     "text": [
      "<class 'pandas.core.frame.DataFrame'>\n",
      "Int64Index: 83307 entries, 0 to 83306\n",
      "Data columns (total 21 columns):\n",
      "patient_id              83307 non-null int64\n",
      "visit_month_year        83307 non-null int64\n",
      "service_id              83307 non-null int64\n",
      "city                    83307 non-null int64\n",
      "ref_type                83307 non-null int64\n",
      "ref_name                83307 non-null int64\n",
      "ref_source              83307 non-null int64\n",
      "service_name            83307 non-null int64\n",
      "FVD                     83307 non-null int64\n",
      "FVM                     83307 non-null int64\n",
      "FVS                     83307 non-null int64\n",
      "approx_age              83307 non-null float64\n",
      "gender                  83307 non-null int64\n",
      "LVD                     83307 non-null int64\n",
      "brand                   83307 non-null int64\n",
      "visits_required         83307 non-null int64\n",
      "diagnosis               83307 non-null int64\n",
      "avg_nps                 83307 non-null float64\n",
      "Service                 83307 non-null int64\n",
      "AGE                     83307 non-null float64\n",
      "visit_month_year_cat    83307 non-null int8\n",
      "dtypes: float64(3), int64(17), int8(1)\n",
      "memory usage: 15.9 MB\n"
     ]
    }
   ],
   "source": [
    "train_data.info()"
   ]
  },
  {
   "cell_type": "code",
   "execution_count": 23,
   "metadata": {},
   "outputs": [],
   "source": [
    "%matplotlib inline\n",
    "import matplotlib.pyplot as plt\n",
    "import seaborn as sns"
   ]
  },
  {
   "cell_type": "code",
   "execution_count": 17,
   "metadata": {
    "collapsed": true
   },
   "outputs": [],
   "source": [
    "fig=plt.figure()"
   ]
  },
  {
   "cell_type": "code",
   "execution_count": 18,
   "metadata": {
    "collapsed": true
   },
   "outputs": [],
   "source": [
    "ax = fig.add_subplot(1,1,1)"
   ]
  },
  {
   "cell_type": "code",
   "execution_count": 24,
   "metadata": {},
   "outputs": [
    {
     "data": {
      "text/plain": [
       "<matplotlib.axes._subplots.AxesSubplot at 0x112884ed0>"
      ]
     },
     "execution_count": 24,
     "metadata": {},
     "output_type": "execute_result"
    },
    {
     "data": {
      "image/png": "[encoded data removed]",
      "text/plain": [
       "<matplotlib.figure.Figure at 0x1af5b6a110>"
      ]
     },
     "metadata": {},
     "output_type": "display_data"
    }
   ],
   "source": [
    "ax.set_title('age distribution')\n",
    "ax.set_xlabel('age')\n",
    "ax.set_ylabel('frequency')\n",
    "var = train_data.groupby('city').revenue.sum()\n",
    "var.plot(kind='bar')"
   ]
  },
  {
   "cell_type": "code",
   "execution_count": 21,
   "metadata": {},
   "outputs": [
    {
     "data": {
      "image/png": "[encoded data removed]",
      "text/plain": [
       "<matplotlib.figure.Figure at 0x113a5c510>"
      ]
     },
     "metadata": {},
     "output_type": "display_data"
    }
   ],
   "source": [
    "ax.hist(var,bins=10)\n",
    "plt.title('age distribution')\n",
    "plt.xlabel('age')\n",
    "plt.ylabel('frequency')\n",
    "plt.show()"
   ]
  },
  {
   "cell_type": "code",
   "execution_count": 15,
   "metadata": {},
   "outputs": [
    {
     "data": {
      "image/png": "[encoded data removed]",
      "text/plain": [
       "<matplotlib.figure.Figure at 0x1122357d0>"
      ]
     },
     "metadata": {},
     "output_type": "display_data"
    }
   ],
   "source": [
    "var = train_data.groupby('city').revenue.sum()\n",
    "plt.title('age distribution')\n",
    "plt.xlabel('age')\n",
    "plt.ylabel('frequency')\n",
    "ax.boxplot(train_data['revenue'])\n",
    "plt.show()"
   ]
  },
  {
   "cell_type": "code",
   "execution_count": 22,
   "metadata": {},
   "outputs": [
    {
     "data": {
      "text/plain": [
       "<matplotlib.axes._subplots.AxesSubplot at 0x113dbd910>"
      ]
     },
     "execution_count": 22,
     "metadata": {},
     "output_type": "execute_result"
    }
   ],
   "source": [
    "train_data['revenue'].plot(kind='bar', bins=100)"
   ]
  },
  {
   "cell_type": "code",
   "execution_count": null,
   "metadata": {
    "collapsed": true
   },
   "outputs": [],
   "source": []
  }
 ],
 "metadata": {
  "kernelspec": {
   "display_name": "Python 2",
   "language": "python",
   "name": "python2"
  },
  "language_info": {
   "codemirror_mode": {
    "name": "ipython",
    "version": 2
   },
   "file_extension": ".py",
   "mimetype": "text/x-python",
   "name": "python",
   "nbconvert_exporter": "python",
   "pygments_lexer": "ipython2",
   "version": "2.7.13"
  }
 },
 "nbformat": 4,
 "nbformat_minor": 2
}
